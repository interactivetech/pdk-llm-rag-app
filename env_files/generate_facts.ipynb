{
 "cells": [
  {
   "cell_type": "markdown",
   "id": "2d6bd0e0-0c33-4f20-a7d1-b2db1370b26e",
   "metadata": {},
   "source": [
    "# Generate Facts with LLM and TitanML"
   ]
  },
  {
   "cell_type": "code",
   "execution_count": 9,
   "id": "02359f1a-4efe-437c-8902-0000f96c0cf1",
   "metadata": {},
   "outputs": [],
   "source": [
    "import chromadb\n",
    "import pandas as pd\n",
    "from chromadb.utils import embedding_functions\n",
    "from langchain.text_splitter import RecursiveCharacterTextSplitter\n",
    "import argparse\n",
    "\n",
    "from chromadb.utils import embedding_functions\n",
    "\n",
    "from chromadb.api.types import (\n",
    "    Document,\n",
    "    Documents,\n",
    "    Embedding,\n",
    "    Image,\n",
    "    Images,\n",
    "    EmbeddingFunction,\n",
    "    Embeddings,\n",
    "    is_image,\n",
    "    is_document,\n",
    ")\n",
    "from tqdm import tqdm\n",
    "import requests"
   ]
  },
  {
   "cell_type": "code",
   "execution_count": 10,
   "id": "1c14bc7a-3002-440e-b55f-f77fd1ebf3b1",
   "metadata": {},
   "outputs": [],
   "source": [
    "data_path = 'hpe_press_releases.csv'\n",
    "df = pd.read_csv(data_path)"
   ]
  },
  {
   "cell_type": "code",
   "execution_count": 11,
   "id": "9ffbf3f5-ce34-40f4-8762-a696cb5f2967",
   "metadata": {},
   "outputs": [],
   "source": [
    "l = df['Content'].tolist()"
   ]
  },
  {
   "cell_type": "code",
   "execution_count": 47,
   "id": "6ba0911b-ede9-4436-997b-61d56f6497ec",
   "metadata": {},
   "outputs": [
    {
     "name": "stdout",
     "output_type": "stream",
     "text": [
      "14\n",
      "117\n",
      "148\n"
     ]
    }
   ],
   "source": [
    "for ind,i in enumerate(l):\n",
    "    if 'Antonio Neri ' in i:\n",
    "        print(ind)\n"
   ]
  },
  {
   "cell_type": "code",
   "execution_count": 50,
   "id": "5af6a5d2-04c1-41c1-8e4f-0f6f2cc18a9f",
   "metadata": {},
   "outputs": [
    {
     "data": {
      "text/plain": [
       "'HPE veteran of 28+ years brings proven leadership to accelerate Supercomputing and AI business\\nHOUSTON, Texas – January 23, 2024\\xa0–\\xa0Hewlett Packard Enterprise\\xa0(NYSE: HPE) today announced an expanded leadership role effective February 1, 2024 for Neil MacDonald, who has been appointed to lead the company’s HPC & AI business segment in addition to leading its Compute business. MacDonald will continue to report to president and chief executive officer, Antonio Neri and each business segment will continue to report its financial results independently. In his new role as the executive vice president and general manager of both Compute and HPC & AI, MacDonald will lead the team in accelerating HPE’s AI strategy by scaling cloud and software solutions with strong integration of HPE GreenLake. Additionally, the company announced that Hewlett Packard Labs will now move to reporting to Fidelma Russo, HPE’s Chief Technology Officer.\\xa0\\n“The HPC and AI business is critical to our ongoing strategy. Neil’s engineering background and expertise in silicon and AI, combined with his decades of proven leadership experience and passion for customer-driven innovation make him uniquely suited to lead this team”\\n“The HPC and AI business is critical to our ongoing strategy. Neil’s engineering background and expertise in silicon and AI, combined with his decades of proven leadership experience and passion for customer-driven innovation make him uniquely suited to lead this team,” said Neri. “Neil’s technical acumen, vision and passion for advancing HPE’s unique IP in supercomputing, AI infrastructure technologies, and our AI software platform will strengthen the role we can play in our customers’ most critical transformations.”\\xa0\\u2028\\u2028Notably, under MacDonald’s leadership, the Compute business recently expanded its strategic collaboration with NVIDIA to enhance HPE’s Compute portfolio and build a turnkey enterprise computing solution for GenAI to target a growing market.\\u2028\\u2028“AI and supercomputing are ground-breaking technologies that will soon transform every business and fuel next generation innovations that will fundamentally change the world,” said MacDonald. “I’m deeply committed to continue fostering the mission of our HPC & AI business and lead this incredibly talented team that’s dedicated to solving our customer’s most complex problems.”\\u2028\\u2028Prior to joining our predecessor, Hewlett-Packard Company, MacDonald was Commercial Manager at Edinburgh Parallel Computing Centre where he helped bring the transformational benefits of massively parallel supercomputing to industrial and commercial customers. He holds a bachelor\\'s degree in Artificial Intelligence with Computer Science and a Ph.D. in Computer Science from the University of Edinburgh, as well as an MBA from San Jose State University.\\xa0\\xa0\\nAbout Hewlett Packard Enterprise\\nHewlett Packard Enterprise (NYSE: HPE) is the global edge-to-cloud company that helps organizations accelerate outcomes by unlocking value from all of their data, everywhere. Built on decades of reimagining the future and innovating to advance the way people live and work, HPE delivers unique, open and intelligent technology solutions as a service.\\xa0 With offerings spanning Cloud Services, Compute, High Performance Computing & AI, Intelligent Edge, Software, and Storage, HPE provides a consistent experience across all clouds and edges, helping customers develop new business models, engage in new ways, and increase operational performance. For more information, visit:\\xa0www.hpe.com.\\u2028\\u2028Forward-looking Statements\\u2028\\u2028This press release contains forward-looking statements within the meaning of the safe harbor provisions of the Private Securities Litigation Reform Act of 1995. Such statements involve risks, uncertainties, and assumptions. If the risks or uncertainties ever materialize or the assumptions prove incorrect, the results of Hewlett Packard Enterprise Company and its consolidated subsidiaries (Hewlett Packard Enterprise) may differ materially from those expressed or implied by such forward-looking statements and assumptions. The words “believe,” “expect,” “anticipate,” “intend,” “will,” \"may,\" and similar expressions are intended to identify such forward-looking statements. All statements other than statements of historical fact are statements that could be deemed forward-looking statements, including but not limited to any projections of executive performance, financial performance, plans, strategies and objectives of management for future operations or performance. Risks, uncertainties and assumptions include those that are described in HPE’s Annual Report on Form 10-K for the fiscal year ended October 31, 2023, Quarterly Reports on Form 10-Q, Current Reports on Form 8-K, and that are otherwise described or updated from time to time in Hewlett Packard Enterprise’s Securities and Exchange Commission reports. Hewlett Packard Enterprise assumes no obligation and does not intend to update these forward-looking statements, except as required by applicable law.\\u2028\\u2028Media Contact:\\u2028John Choi\\u2028John.choi@hpe.com'"
      ]
     },
     "execution_count": 50,
     "metadata": {},
     "output_type": "execute_result"
    }
   ],
   "source": [
    "'''\n",
    "13\n",
    "20\n",
    "30\n",
    "39\n",
    "52\n",
    "60\n",
    "73\n",
    "85\n",
    "89\n",
    "'''\n",
    "l[148]"
   ]
  },
  {
   "cell_type": "code",
   "execution_count": 52,
   "id": "71c5db26-f39f-44a6-8d17-c1cea3e08db0",
   "metadata": {},
   "outputs": [
    {
     "name": "stdout",
     "output_type": "stream",
     "text": [
      "[INST]Document:`Antonio Neri is President and Chief Executive Officer of Hewlett Packard Enterprise (HPE), responsible for leading the development and delivery of enterprise technology solutions and services that help organizations accelerate business outcomes by unlocking value from all of their data, everywhere.\n",
      "\n",
      "Since being named CEO in February 2018, Antonio has leveraged his deep experience as a business leader and technologist to transform HPE into the global edge-to-cloud company. He has led the introduction of leading innovations such as HPE GreenLake, the company’s unified, automated, and secure hybrid-cloud experience, and Frontier, the world’s first supercomputer to break the exascale speed barrier.\n",
      "\n",
      "Antonio has accelerated the company’s innovation organically and through targeted acquisitions, including Aruba Networks, Axis Security, Cray, Determined AI, Nimble Storage, Pachyderm, Silicon Graphics, Silver Peak, and Zerto, among others.\n",
      "\n",
      "Under his leadership, HPE has also achieved its highest level of team member engagement in company history and has been recognized as a great place to work, including ranking #19 in Fortune’s 100 Best Companies to Work For® 2022.\n",
      "\n",
      "Prior to his role as CEO, Antonio spent more than 23 years at Hewlett-Packard Company (HP) and HPE, holding numerous leadership positions, including President; Executive Vice President & General Manager of HPE’s Enterprise Group; leader of HP’s Server and Networking business; and head of HP’s Technology Services business. \n",
      "\n",
      "Antonio currently serves on the Board of Directors of Elevance Health, Inc. (formerly Anthem, Inc.) and on Maserati and ROKiT Venturi Racing’s Advisory Board. He also serves on the International Business Council of the World Economic Forum and on the Technology Committee of the Business Roundtable. \n",
      "\n",
      "Antonio graduated from Escuela Nacional de Educación Técnica in Argentina and attended the Universidad Tecnólgica Nacional. `. Using the text in Document, answer the following question factually: Generate Facts from the document.[/INST]\n",
      "answer:   1. Antonio Neri is the President and Chief Executive Officer of Hewlett Packard Enterprise (HPE).\n",
      "2. Since becoming CEO in February 2018, he has led HPE's transformation into a global edge-to-cloud company.\n",
      "3. Under his leadership, HPE has introduced leading innovations such as HPE GreenLake and Frontier.\n",
      "4. He has also accelerated the company's innovation organically and through targeted acquisitions.\n",
      "5. In 26 years at HP and HPE, he held numerous leadership positions including President, EVP & GM of HPE’s Enterprise Group, leader of HP’s Server and Networking business, and head of HP's Technology Services business.\n",
      "6. Currently, he serves on several boards and committees, including Elevance Health, Inc., Maserati, ROKiT Venturi Racing's Advisory Board, World Economic Forum's International Business Council, and the Technology Committee of the Business Roundtable.\n",
      "7. He graduated from Escuela Nacional de Educación Técnica in Argentina and attended Universidad Tecnológica Nacional.\n"
     ]
    }
   ],
   "source": [
    "def generate_prompt(doc, query):\n",
    "    # prompt = f\"{base_prompt}[INST]Document:`{doc}`. Using the text in Document, answer the following question factually: {query}. Answer concisely at most in three sentences. Respond in a natural way, like you are having a conversation with a friend.[/INST]\"\n",
    "    prompt = f\"[INST]Document:`{doc}`. Using the text in Document, answer the following question factually: {query}.[/INST]\"\n",
    "\n",
    "    return prompt\n",
    "def make_api_request(prompt):\n",
    "    url = 'http://10.182.1.48:8080/generate_stream'\n",
    "    headers = {\n",
    "        'Content-Type': 'application/json'\n",
    "    }\n",
    "    data = {\n",
    "        'text': prompt,\n",
    "        'generate_max_length': 1000,\n",
    "        'no_repeat_ngram_size': 3,\n",
    "        'sampling_topk': 50,\n",
    "        'sampling_topp': 0.95,\n",
    "        'sampling_temperature': 0.3,\n",
    "        'repetition_penalty': 1.2\n",
    "    }\n",
    "    response = requests.post(url, headers=headers, json=data, verify=False)  # verify=False is generally not recommended\n",
    "    return response\n",
    "\n",
    "\n",
    "question = \"Generate Facts from the document\"\n",
    "# doc = l[148]\n",
    "doc = '''Antonio Neri is President and Chief Executive Officer of Hewlett Packard Enterprise (HPE), responsible for leading the development and delivery of enterprise technology solutions and services that help organizations accelerate business outcomes by unlocking value from all of their data, everywhere.\n",
    "\n",
    "Since being named CEO in February 2018, Antonio has leveraged his deep experience as a business leader and technologist to transform HPE into the global edge-to-cloud company. He has led the introduction of leading innovations such as HPE GreenLake, the company’s unified, automated, and secure hybrid-cloud experience, and Frontier, the world’s first supercomputer to break the exascale speed barrier.\n",
    "\n",
    "Antonio has accelerated the company’s innovation organically and through targeted acquisitions, including Aruba Networks, Axis Security, Cray, Determined AI, Nimble Storage, Pachyderm, Silicon Graphics, Silver Peak, and Zerto, among others.\n",
    "\n",
    "Under his leadership, HPE has also achieved its highest level of team member engagement in company history and has been recognized as a great place to work, including ranking #19 in Fortune’s 100 Best Companies to Work For® 2022.\n",
    "\n",
    "Prior to his role as CEO, Antonio spent more than 23 years at Hewlett-Packard Company (HP) and HPE, holding numerous leadership positions, including President; Executive Vice President & General Manager of HPE’s Enterprise Group; leader of HP’s Server and Networking business; and head of HP’s Technology Services business. \n",
    "\n",
    "Antonio currently serves on the Board of Directors of Elevance Health, Inc. (formerly Anthem, Inc.) and on Maserati and ROKiT Venturi Racing’s Advisory Board. He also serves on the International Business Council of the World Economic Forum and on the Technology Committee of the Business Roundtable. \n",
    "\n",
    "Antonio graduated from Escuela Nacional de Educación Técnica in Argentina and attended the Universidad Tecnólgica Nacional. '''\n",
    "\n",
    "prompt = generate_prompt(doc,question)\n",
    "print(prompt)\n",
    "# Simulating an API request (this will not actually run in this environment)\n",
    "response = make_api_request(prompt)\n",
    "answer = response.content.decode('utf-8')\n",
    "print(\"answer: \",answer)\n"
   ]
  },
  {
   "cell_type": "code",
   "execution_count": null,
   "id": "e7a9755c-57c0-47f4-8884-1276c1e33abc",
   "metadata": {},
   "outputs": [],
   "source": []
  }
 ],
 "metadata": {
  "kernelspec": {
   "display_name": "Python 3 (ipykernel)",
   "language": "python",
   "name": "python3"
  },
  "language_info": {
   "codemirror_mode": {
    "name": "ipython",
    "version": 3
   },
   "file_extension": ".py",
   "mimetype": "text/x-python",
   "name": "python",
   "nbconvert_exporter": "python",
   "pygments_lexer": "ipython3",
   "version": "3.8.18"
  }
 },
 "nbformat": 4,
 "nbformat_minor": 5
}
