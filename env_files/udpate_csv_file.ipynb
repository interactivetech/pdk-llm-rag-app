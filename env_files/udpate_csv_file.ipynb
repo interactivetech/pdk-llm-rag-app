{
 "cells": [
  {
   "cell_type": "markdown",
   "id": "8b746a53-0286-44da-844f-08d29c38dd79",
   "metadata": {},
   "source": [
    "# update csv file"
   ]
  },
  {
   "cell_type": "code",
   "execution_count": null,
   "id": "dff7fe37-fc0d-4c75-b6da-799138555c34",
   "metadata": {},
   "outputs": [],
   "source": [
    "import chromadb\n",
    "import pandas as pd\n",
    "from chromadb.utils import embedding_functions\n",
    "from langchain.text_splitter import RecursiveCharacterTextSplitter\n",
    "import argparse\n",
    "\n",
    "from tqdm import tqdm\n",
    "import requests"
   ]
  },
  {
   "cell_type": "code",
   "execution_count": null,
   "id": "22aeae0c-d46f-499a-8e96-9658347379c8",
   "metadata": {},
   "outputs": [],
   "source": [
    "df = pd.read_csv('../data/HPE_2023_Press_Releases.csv')"
   ]
  },
  {
   "cell_type": "code",
   "execution_count": null,
   "id": "4e760bea-e51e-4c06-a973-7afead6bd8b7",
   "metadata": {},
   "outputs": [],
   "source": [
    "df.head()"
   ]
  },
  {
   "cell_type": "code",
   "execution_count": null,
   "id": "55c31b53-4748-4416-8124-599804fa139c",
   "metadata": {},
   "outputs": [],
   "source": [
    "# df.to_csv()"
   ]
  },
  {
   "cell_type": "code",
   "execution_count": null,
   "id": "e5ddf4e6-066c-44da-94d6-f71595f4d0c9",
   "metadata": {},
   "outputs": [],
   "source": [
    "# Define a new row to add (example data)\n",
    "new_row = {\n",
    "    'Title': 'Antonio Neri President & Chief Executive Officer',\n",
    "    'Date': 'February 14, 2024',\n",
    "    'Summary': 'Antonio Neri President & Chief Executive Officer',\n",
    "    'Content': '''Antonio Neri is President and Chief Executive Officer of Hewlett Packard Enterprise (HPE), responsible for leading the development and delivery of enterprise technology solutions and services that help organizations accelerate business outcomes by unlocking value from all of their data, everywhere.\n",
    "\n",
    "Since being named CEO in February 2018, Antonio has leveraged his deep experience as a business leader and technologist to transform HPE into the global edge-to-cloud company. He has led the introduction of leading innovations such as HPE GreenLake, the company’s unified, automated, and secure hybrid-cloud experience, and Frontier, the world’s first supercomputer to break the exascale speed barrier.\n",
    "\n",
    "Antonio has accelerated the company’s innovation organically and through targeted acquisitions, including Aruba Networks, Axis Security, Cray, Determined AI, Nimble Storage, Pachyderm, Silicon Graphics, Silver Peak, and Zerto, among others.\n",
    "\n",
    "Under his leadership, HPE has also achieved its highest level of team member engagement in company history and has been recognized as a great place to work, including ranking #19 in Fortune’s 100 Best Companies to Work For® 2022.\n",
    "\n",
    "Prior to his role as CEO, Antonio spent more than 23 years at Hewlett-Packard Company (HP) and HPE, holding numerous leadership positions, including President; Executive Vice President & General Manager of HPE’s Enterprise Group; leader of HP’s Server and Networking business; and head of HP’s Technology Services business. \n",
    "\n",
    "Antonio currently serves on the Board of Directors of Elevance Health, Inc. (formerly Anthem, Inc.) and on Maserati and ROKiT Venturi Racing’s Advisory Board. He also serves on the International Business Council of the World Economic Forum and on the Technology Committee of the Business Roundtable. \n",
    "\n",
    "Antonio graduated from Escuela Nacional de Educación Técnica in Argentina and attended the Universidad Tecnólgica Nacional.''',\n",
    "    'URL': 'https://www.hpe.com/us/en/leadership-bios/antonio-neri.html#:~:text=Antonio%20Neri%20is%20President%20and,all%20of%20their%20data%2C%20everywhere.',\n",
    "    'Questions': '[\"None\"]',\n",
    "    'Answers': '[\"None\"]'\n",
    "}\n",
    "\n",
    "# Append the new row to the DataFrame\n",
    "df = pd.concat([df, pd.DataFrame([new_row])], ignore_index=True)"
   ]
  },
  {
   "cell_type": "code",
   "execution_count": null,
   "id": "16d2a3f2-3b64-41bc-ae83-dd5921b5e19b",
   "metadata": {},
   "outputs": [],
   "source": [
    "df.tail()"
   ]
  },
  {
   "cell_type": "code",
   "execution_count": null,
   "id": "c6d967cc-5ad5-4806-b624-515653c23d21",
   "metadata": {},
   "outputs": [],
   "source": [
    "df.to_csv('../data/HPE_2023_Press_Releases.csv', index=False)"
   ]
  },
  {
   "cell_type": "code",
   "execution_count": null,
   "id": "381a3b45-be67-4673-8618-787a9d6c7d6b",
   "metadata": {},
   "outputs": [],
   "source": [
    "!cp ../data/HPE_2023_Press_Releases.csv ../data/HPE_2023_Press_Releases_2_13_24.csv "
   ]
  },
  {
   "cell_type": "code",
   "execution_count": null,
   "id": "3ceb8283-4fd4-4518-ad75-63b3da6ea57e",
   "metadata": {},
   "outputs": [],
   "source": [
    "df.shape"
   ]
  },
  {
   "cell_type": "code",
   "execution_count": null,
   "id": "4630fb1a-2e5f-496e-8c0d-5b7a739e5456",
   "metadata": {},
   "outputs": [],
   "source": [
    "df.head(1).to_csv()"
   ]
  },
  {
   "cell_type": "code",
   "execution_count": null,
   "id": "9080ea06-4e0f-4fbb-a73a-8b657b78a473",
   "metadata": {},
   "outputs": [],
   "source": [
    "!pip install fpdf"
   ]
  },
  {
   "cell_type": "code",
   "execution_count": null,
   "id": "1b5f628a-58d3-4479-a17c-a4d4590dcad3",
   "metadata": {},
   "outputs": [],
   "source": [
    "from fpdf import FPDF\n",
    "import csv\n",
    "\n",
    "# Define the CSV file name\n",
    "csv_file = '../data/HPE_2023_Press_Releases.csv'\n",
    "\n",
    "# Create a PDF class instance\n",
    "class PDF(FPDF):\n",
    "    def header(self):\n",
    "        self.set_font('Arial', 'B', 12)\n",
    "        # self.cell(0, 10, 'Document Generated from CSV', 0, 1, 'C')\n",
    "\n",
    "    def footer(self):\n",
    "        self.set_y(-15)\n",
    "        self.set_font('Arial', 'I', 8)\n",
    "        # self.cell(0, 10, f'Page {self.page_no()}', 0, 0, 'C')\n",
    "\n",
    "# Create a PDF object\n",
    "pdf = PDF()\n",
    "pdf.add_page()\n",
    "pdf.set_auto_page_break(auto=True, margin=15)\n",
    "pdf.set_font('Arial', '', 12)\n",
    "# Specify the rows you want to include in the PDF\n",
    "# For example, to include rows 1-10 and 20, use: rows_to_include = list(range(1, 11)) + [20]\n",
    "# rows_to_include = list(range(1, 11)) + [20]\n",
    "rows_to_include=[1]\n",
    "# Open the CSV file and read contents\n",
    "with open(csv_file, newline='', encoding='utf-8-sig') as csvfile:\n",
    "    reader = csv.DictReader(csvfile)\n",
    "    for i, row in enumerate(reader, start=1):\n",
    "        if i in rows_to_include:\n",
    "            title = row['Title'].encode('latin-1', 'replace').decode('latin-1')\n",
    "            date = row['Date'].encode('latin-1', 'replace').decode('latin-1')\n",
    "            content = row['Content'].encode('latin-1', 'replace').decode('latin-1')\n",
    "\n",
    "            # Add content to PDF\n",
    "            pdf.set_font('Arial', 'B', 16)\n",
    "            pdf.cell(0, 10, title, 0, 1)\n",
    "            pdf.set_font('Arial', 'I', 12)\n",
    "            pdf.cell(0, 10, date, 0, 1)\n",
    "            pdf.set_font('Arial', '', 12)\n",
    "            pdf.multi_cell(0, 10, content)\n",
    "            pdf.add_page()\n",
    "\n",
    "# Save the PDF to a file\n",
    "pdf.output('output_{}.pdf'.format(rows_to_include[0]))"
   ]
  },
  {
   "cell_type": "code",
   "execution_count": null,
   "id": "ba0c18e5-fbeb-4f79-8f75-5ed46fc5e58a",
   "metadata": {},
   "outputs": [],
   "source": []
  }
 ],
 "metadata": {
  "kernelspec": {
   "display_name": "Python 3 (ipykernel)",
   "language": "python",
   "name": "python3"
  },
  "language_info": {
   "codemirror_mode": {
    "name": "ipython",
    "version": 3
   },
   "file_extension": ".py",
   "mimetype": "text/x-python",
   "name": "python",
   "nbconvert_exporter": "python",
   "pygments_lexer": "ipython3",
   "version": "3.8.18"
  }
 },
 "nbformat": 4,
 "nbformat_minor": 5
}
