{
 "cells": [
  {
   "cell_type": "code",
   "execution_count": null,
   "id": "976b108a-2b0f-416f-8c59-41064db0ed85",
   "metadata": {},
   "outputs": [],
   "source": [
    "# Debug RAG"
   ]
  },
  {
   "cell_type": "code",
   "execution_count": null,
   "id": "8a2f7700-d6b7-486c-8a25-131823c92302",
   "metadata": {},
   "outputs": [],
   "source": [
    "%%capture\n",
    "!pip install chainlit"
   ]
  },
  {
   "cell_type": "code",
   "execution_count": 5,
   "id": "a7e16f8c-9259-407c-9f0c-68d2d5935c64",
   "metadata": {},
   "outputs": [
    {
     "name": "stdout",
     "output_type": "stream",
     "text": [
      "8080 10.182.1.48 /nvmefs1/test_user/cache/rag_db3/ /nvmefs1/test_user/cache/vector_model/e5-base-v2\n",
      "Titan URL:  http://8080:10.182.1.48/generate_stream\n"
     ]
    }
   ],
   "source": [
    "import chainlit as cl \n",
    "import chromadb \n",
    "import requests \n",
    "import os\n",
    "from chromadb.config import Settings\n",
    "from datetime import datetime\n",
    "from chromadb.utils import embedding_functions\n",
    "\n",
    "api_host = '8080'\n",
    "api_port = '10.182.1.48'\n",
    "RAG_DB_PATH='/nvmefs1/test_user/cache/rag_db3/'\n",
    "EMB_PATH='/nvmefs1/test_user/cache/vector_model/e5-base-v2'\n",
    "print(api_host,api_port,RAG_DB_PATH,EMB_PATH)\n",
    "#parser = argparse.ArgumentParser(description=\"Process a file.\") \n",
    "#path = '/mnt/efs/shared_fs/determined/rag_db/' \n",
    "#db = chromadb.PersistentClient(path=path) \n",
    "#collection = db.get_collection(\"HPE_press_releases\") \n",
    "#EXTERNAL_IP=\"10.239.100.80\"\n",
    "#parser.add_argument(\"external_api_ip\", default=None,help=\"External IP for API\") \n",
    "#parser.add_argument(\"path_to_db\", default='/mnt/efs/shared_fs/determined/rag_db',help=\"Path to vector db in container\")\n",
    "#parser.add_argument(\"host\",default=\"0.0.0.0\")\n",
    "#parser.add_argument(\"port\", default=8085)\n",
    "\n",
    "#titan_url = \"http://{}:8006/generate_stream\".format(EXTERNAL_IP)\n",
    "#args = parser.parse_args()\n",
    "\n",
    "\n",
    "#path = '/mnt/efs/shared_fs/determined/rag_db/'\n",
    "path = RAG_DB_PATH\n",
    "settings = chromadb.get_settings()\n",
    "settings.allow_reset = True\n",
    "db = chromadb.PersistentClient(path=path,settings=settings)\n",
    "emb_fn = embedding_functions.SentenceTransformerEmbeddingFunction(\n",
    "    model_name=EMB_PATH, device=\"cpu\"\n",
    ")\n",
    "collection = db.get_collection(\"HPE_press_releases\",embedding_function=emb_fn)\n",
    "#parser.add_argument(\"filepath\", help=\"Path to the XML file\")\n",
    "titan_url = \"http://{}:{}/generate_stream\".format(api_host,api_port)\n",
    "print(\"Titan URL: \",titan_url)\n",
    "\n"
   ]
  },
  {
   "cell_type": "code",
   "execution_count": 10,
   "id": "92fbd469-8a81-4297-a9ce-f857eae3df93",
   "metadata": {},
   "outputs": [
    {
     "ename": "NameError",
     "evalue": "name 'df' is not defined",
     "output_type": "error",
     "traceback": [
      "\u001b[0;31m---------------------------------------------------------------------------\u001b[0m",
      "\u001b[0;31mNameError\u001b[0m                                 Traceback (most recent call last)",
      "Cell \u001b[0;32mIn[10], line 1\u001b[0m\n\u001b[0;32m----> 1\u001b[0m \u001b[43mdf\u001b[49m\u001b[38;5;241m.\u001b[39mshape\n",
      "\u001b[0;31mNameError\u001b[0m: name 'df' is not defined"
     ]
    }
   ],
   "source": [
    "# df.shape"
   ]
  },
  {
   "cell_type": "code",
   "execution_count": 6,
   "id": "90a59d47-b34f-448a-8ee7-a2d82d538b7a",
   "metadata": {},
   "outputs": [],
   "source": [
    "question = 'Who is Antonio Neri?'"
   ]
  },
  {
   "cell_type": "code",
   "execution_count": 7,
   "id": "1ca8a463-2107-4f2e-8eb9-81e8af71ade8",
   "metadata": {},
   "outputs": [
    {
     "data": {
      "application/vnd.jupyter.widget-view+json": {
       "model_id": "c55c15b397ff439ea0020c3c5b77c73e",
       "version_major": 2,
       "version_minor": 0
      },
      "text/plain": [
       "Batches:   0%|          | 0/1 [00:00<?, ?it/s]"
      ]
     },
     "metadata": {},
     "output_type": "display_data"
    },
    {
     "name": "stdout",
     "output_type": "stream",
     "text": [
      "Sorted Dates: ['2024-02-14', '2024-01-23', '2024-01-23', '2023-02-22', '2022-10-04']\n",
      "Original Indices: [0, 2, 4, 1, 3]\n"
     ]
    },
    {
     "data": {
      "text/plain": [
       "{'ids': [['id224', 'id180', 'id222', 'id97', 'id223']],\n",
       " 'distances': [[0.3126109808262521,\n",
       "   0.4520028233528137,\n",
       "   0.4642681158148587,\n",
       "   0.4674578905105591,\n",
       "   0.46775119900362405]],\n",
       " 'metadatas': [[{'Content': 'Antonio Neri is President and Chief Executive Officer of Hewlett Packard Enterprise (HPE), responsible for leading the development and delivery of enterprise technology solutions and services that help organizations accelerate business outcomes by unlocking value from all of their data, everywhere.\\n\\nSince being named CEO in February 2018, Antonio has leveraged his deep experience as a business leader and technologist to transform HPE into the global edge-to-cloud company. He has led the introduction of leading innovations such as HPE GreenLake, the company’s unified, automated, and secure hybrid-cloud experience, and Frontier, the world’s first supercomputer to break the exascale speed barrier.\\n\\nAntonio has accelerated the company’s innovation organically and through targeted acquisitions, including Aruba Networks, Axis Security, Cray, Determined AI, Nimble Storage, Pachyderm, Silicon Graphics, Silver Peak, and Zerto, among others.\\n\\nUnder his leadership, HPE has also achieved its highest level of team member engagement in company history and has been recognized as a great place to work, including ranking #19 in Fortune’s 100 Best Companies to Work For® 2022.\\n\\nPrior to his role as CEO, Antonio spent more than 23 years at Hewlett-Packard Company (HP) and HPE, holding numerous leadership positions, including President; Executive Vice President & General Manager of HPE’s Enterprise Group; leader of HP’s Server and Networking business; and head of HP’s Technology Services business. \\n\\nAntonio currently serves on the Board of Directors of Elevance Health, Inc. (formerly Anthem, Inc.) and on Maserati and ROKiT Venturi Racing’s Advisory Board. He also serves on the International Business Council of the World Economic Forum and on the Technology Committee of the Business Roundtable. \\n\\nAntonio graduated from Escuela Nacional de Educación Técnica in Argentina and attended the Universidad Tecnólgica Nacional.',\n",
       "    'Date': '2024-02-14',\n",
       "    'Title': 'Antonio Neri President & Chief Executive Officer'},\n",
       "   {'Content': \"Learning more about Bobby's career path, his advice for others, and what he does in his down time\\r\\nLeading the charge to ensure HPE’s digital and physical assets are always protected is his primary job. Being passionate about football and a stickler for designer shoes is part of his alter-ego.\\r\\n\\r\\nWe had a chance to catch up with Bobby and get to know him a little better.  What is the best thing about working in IT security?\\r\\n\\r\\nInformation security, or cybersecurity, is a really cool field. It’s an industry that's been around for more than 30 years, and it's still at the beginning. It is fast-paced and continually evolving, so there is always more that we need to understand.  This is also why companies continue to invest heavily in IT security.\\r\\n\\r\\nWhat advice would you have for someone who wants to get into IT security?\\r\\n\\r\\nI would say understand how truly broad a topic it is and don't be intimidated by the technical aspects of it.  When you think of cybersecurity, you shouldn't immediately think tech. There are different functions and so many different roles that exist in cybersecurity, and not all of them are deeply technical.\\r\\n\\r\\nWhat excites you about working in this field, specifically at HPE?\\r\\n\\r\\nI believe that we are truly transforming the way people consume and view technology. Being at HPE, we are helping an entire industry transform. Very rarely do you get an opportunity to be part of something this big, and I'm thankful to be here.\\r\\n\\r\\nWhat drives you as a chief security officer?\\r\\n\\r\\nThe opportunity to protect our data, to protect our assets, and essentially, to protect our business, is what drives me. People tend to think that security is synonymous with defense. I love that theory because if you are a sports fan, you already know that defense wins the championships.\\r\\n\\r\\nYou’re a self-proclaimed designer shoe aficionado. Tell us more.\\r\\n\\r\\nI love fashion. I think it stems from my parents.  They were into fashion and made sure we always looked our best at church, the first day of school, and other big events. So, it stuck with me, especially shoes.  I think the most significant part of anyone's fashion is their shoes, and I can tell a lot about an individual based on their shoe game.\\r\\n\\r\\nI knew I was supposed to be at HPE the first time I met Antonio Neri because his shoe game is flawless.\",\n",
       "    'Date': '2023-02-22',\n",
       "    'Title': 'Get to know Bobby Ford, HPE’s Chief Security Officer'},\n",
       "   {'Content': 'IN THIS ARTICLE\\nMajor rose through HPE leadership ranks in employment law and HR to become member of executive team, reporting to CEO Antonio Neri\\nMay to remain with HPE to support the organizational integration of Juniper Networks, which HPE intends to acquire\\n\\nSucceeds Alan May, HPE\\'s first CPO who helped shape talent strategy and award-winning culture\\nHOUSTON – January 23, 2024 –\\xa0Hewlett Packard Enterprise\\xa0(NYSE: HPE) today named Kristin Major as executive vice president and chief people officer (CPO), effective February 1, 2024, reporting to president and chief executive officer Antonio Neri.\\xa0\\u2028\\u2028Major has been with HPE since 2011, most recently serving as senior vice president of human resources (HR) and chief talent officer. Over the course of her career with HPE, Major has led HR for HPE GreenLake, HPE Aruba Networking, the HPE Transformation Office, and HPE’s chief technology officer. Prior to joining the HR function, Major was the chief employment counsel for the company for eight years as part of the Operations, Legal, and Administrative Affairs organization.\\xa0\\n“Having worked in several different parts of the business over the last 12 years, Kristin has strong relationships and a deep understanding of the needs and opportunities across the enterprise.”\\n“Having worked in several different parts of the business over the last 12 years, Kristin has strong relationships and a deep understanding of the needs and opportunities across the enterprise,” said Neri. “Our team members love her, and she shares my passion for culture and creating an environment where our team members can thrive.”\\u2028\\u2028“This really is my dream job. I love this company and I care deeply about our team members and about making their lives better – both professionally and personally,” said Major. “My top priority is building high-performance teams and cultivating and supporting highly engaged leaders who enable team members to take on new challenges, learn, and grow in a healthy, inclusive environment.”\\xa0\\n“This really is my dream job. I love this company and I care deeply about our team members and about making their lives better – both professionally and personally.”\\u2028\\nBefore joining HPE, Major was a labor and employment counsel at Skadden, Arps, Slate, Meagher & Flom in Palo Alto, California. Major holds a law degree from Georgetown University and received her undergraduate degree from the University of Arizona.\\u2028\\u2028Major succeeds Alan May, who held the CPO role since joining the company in 2015. During his tenure, May transformed HPE’s Human Resource function to foster innovation, raise the bar on talent, increase diversity, introduce industry-leading benefits, and advance culture and business results. He played an instrumental role in the 2015 formation of HPE in its separation from HP, and guided many subsequent transformation efforts, spin-offs and acquisitions. May will remain with HPE to support the organizational integration of Juniper Networks, which HPE announced earlier this month it intends to acquire.\\xa0\\u2028\\u2028“Alan has been a trusted partner to me since I assumed the role of CEO in 2018, helping to advance our strategic priorities around culture, innovation, and transformation. Together we have made HPE a fantastic place to work that\\xa0cultivates extraordinary leaders like Kristin,” said Neri. “Alan will play a critical role in the expected integration of Juniper to successfully onboard our new team members into the HPE family while strengthening our culture and future.”\\nAbout Hewlett Packard Enterprise\\nHewlett Packard Enterprise (NYSE: HPE) is the global edge-to-cloud company that helps organizations accelerate outcomes by unlocking value from all of their data, everywhere. Built on decades of reimagining the future and innovating to advance the way people live and work, HPE delivers unique, open and intelligent technology solutions as a service.\\u202f With offerings spanning Cloud Services, Compute, High Performance Computing & AI, Intelligent Edge, Software, and Storage, HPE provides a consistent experience across all clouds and edges, helping customers develop new business models, engage in new ways, and increase operational performance. For more information, visit:\\u202fwww.hpe.com.\\u2028\\u2028Forward-looking Statements\\u2028\\u2028This press release contains forward-looking statements within the meaning of the safe harbor provisions of the Private Securities Litigation Reform Act of 1995. Such statements involve risks, uncertainties, and assumptions. If the risks or uncertainties ever materialize or the assumptions prove incorrect, the results of Hewlett Packard Enterprise Company and its consolidated subsidiaries (Hewlett Packard Enterprise) may differ materially from those expressed or implied by such forward-looking statements and assumptions. The words “believe,” “expect,” “anticipate,” “intend,” “will,” \"may,\" and similar expressions are intended to identify such forward-looking statements. All statements other than statements of historical fact are statements that could be deemed forward-looking statements, including but not limited to any projections of executive performance, financial performance, plans, strategies and objectives of management for future operations or performance, and the ability to successfully close the acquisition of and integrate Juniper Networks, Inc. Risks, uncertainties and assumptions include those that are described in HPE’s Annual Report on Form 10-K for the fiscal year ended October 31, 2023, Quarterly Reports on Form 10-Q, Current Reports on Form 8-K, and that are otherwise described or updated from time to time in Hewlett Packard Enterprise’s Securities and Exchange Commission reports. Hewlett Packard Enterprise assumes no obligation and does not intend to update these forward-looking statements, except as required by applicable law.\\u2028\\u2028Media Contact:\\u2028Adam Bauer\\u2028Adam.Bauer@hpe.com',\n",
       "    'Date': '2024-01-23',\n",
       "    'Title': 'HPE appoints Kristin Major chief people officer\\n'},\n",
       "   {'Content': 'HOUSTON, Texas – October 4, 2022 – Hewlett Packard Enterprise (NYSE: HPE) will host its Securities Analyst Meeting on October 19, 2022. Join the live webcast to hear Antonio Neri, president and CEO, and Tarek Robbiati, executive vice president and CFO, discuss HPE’s vision, strategy, and financial outlook.\\xa0\\n\\nThe webcast will begin Wednesday, October 19 at 2:30 p.m. CT (3:30 p.m. ET) and will be available at www.hpe.com/investor/SAM2022. Following the executives’ presentations, HPE will hold a live Q&A session.\\n\\r\\nA replay of the webcast will be available at the same website shortly after the call and will remain available for approximately one year. For additional information, see investors.hpe.com.\\xa0\\n\\nAbout Hewlett Packard Enterprise\\nHewlett Packard Enterprise (NYSE: HPE) is the global edge-to-cloud company that helps organizations accelerate outcomes by unlocking value from all of their data, everywhere. Built on decades of reimagining the future and innovating to advance the way people live and work, HPE delivers unique, open and intelligent technology solutions as a service. With offerings spanning Cloud Services, Compute, High Performance Computing & AI, Intelligent Edge, Software, and Storage, HPE provides a consistent experience across all clouds and edges, helping customers develop new business models, engage in new ways, and increase operational performance. For more information, visit: www.hpe.com.\\n\\r\\nEditorial contact\\nLaura Keller\\nLaura.Keller@hpe.com\\n\\r\\nInvestor contact\\nJeff Kvaal\\ninvestor.relations@hpe.com\\n\\nRELATED NEWS\\n',\n",
       "    'Date': '2022-10-04',\n",
       "    'Title': 'Hewlett Packard Enterprise to webcast HPE Securities Analyst Meeting 2022'},\n",
       "   {'Content': 'HPE veteran of 28+ years brings proven leadership to accelerate Supercomputing and AI business\\nHOUSTON, Texas – January 23, 2024\\xa0–\\xa0Hewlett Packard Enterprise\\xa0(NYSE: HPE) today announced an expanded leadership role effective February 1, 2024 for Neil MacDonald, who has been appointed to lead the company’s HPC & AI business segment in addition to leading its Compute business. MacDonald will continue to report to president and chief executive officer, Antonio Neri and each business segment will continue to report its financial results independently. In his new role as the executive vice president and general manager of both Compute and HPC & AI, MacDonald will lead the team in accelerating HPE’s AI strategy by scaling cloud and software solutions with strong integration of HPE GreenLake. Additionally, the company announced that Hewlett Packard Labs will now move to reporting to Fidelma Russo, HPE’s Chief Technology Officer.\\xa0\\n“The HPC and AI business is critical to our ongoing strategy. Neil’s engineering background and expertise in silicon and AI, combined with his decades of proven leadership experience and passion for customer-driven innovation make him uniquely suited to lead this team”\\n“The HPC and AI business is critical to our ongoing strategy. Neil’s engineering background and expertise in silicon and AI, combined with his decades of proven leadership experience and passion for customer-driven innovation make him uniquely suited to lead this team,” said Neri. “Neil’s technical acumen, vision and passion for advancing HPE’s unique IP in supercomputing, AI infrastructure technologies, and our AI software platform will strengthen the role we can play in our customers’ most critical transformations.”\\xa0\\u2028\\u2028Notably, under MacDonald’s leadership, the Compute business recently expanded its strategic collaboration with NVIDIA to enhance HPE’s Compute portfolio and build a turnkey enterprise computing solution for GenAI to target a growing market.\\u2028\\u2028“AI and supercomputing are ground-breaking technologies that will soon transform every business and fuel next generation innovations that will fundamentally change the world,” said MacDonald. “I’m deeply committed to continue fostering the mission of our HPC & AI business and lead this incredibly talented team that’s dedicated to solving our customer’s most complex problems.”\\u2028\\u2028Prior to joining our predecessor, Hewlett-Packard Company, MacDonald was Commercial Manager at Edinburgh Parallel Computing Centre where he helped bring the transformational benefits of massively parallel supercomputing to industrial and commercial customers. He holds a bachelor\\'s degree in Artificial Intelligence with Computer Science and a Ph.D. in Computer Science from the University of Edinburgh, as well as an MBA from San Jose State University.\\xa0\\xa0\\nAbout Hewlett Packard Enterprise\\nHewlett Packard Enterprise (NYSE: HPE) is the global edge-to-cloud company that helps organizations accelerate outcomes by unlocking value from all of their data, everywhere. Built on decades of reimagining the future and innovating to advance the way people live and work, HPE delivers unique, open and intelligent technology solutions as a service.\\xa0 With offerings spanning Cloud Services, Compute, High Performance Computing & AI, Intelligent Edge, Software, and Storage, HPE provides a consistent experience across all clouds and edges, helping customers develop new business models, engage in new ways, and increase operational performance. For more information, visit:\\xa0www.hpe.com.\\u2028\\u2028Forward-looking Statements\\u2028\\u2028This press release contains forward-looking statements within the meaning of the safe harbor provisions of the Private Securities Litigation Reform Act of 1995. Such statements involve risks, uncertainties, and assumptions. If the risks or uncertainties ever materialize or the assumptions prove incorrect, the results of Hewlett Packard Enterprise Company and its consolidated subsidiaries (Hewlett Packard Enterprise) may differ materially from those expressed or implied by such forward-looking statements and assumptions. The words “believe,” “expect,” “anticipate,” “intend,” “will,” \"may,\" and similar expressions are intended to identify such forward-looking statements. All statements other than statements of historical fact are statements that could be deemed forward-looking statements, including but not limited to any projections of executive performance, financial performance, plans, strategies and objectives of management for future operations or performance. Risks, uncertainties and assumptions include those that are described in HPE’s Annual Report on Form 10-K for the fiscal year ended October 31, 2023, Quarterly Reports on Form 10-Q, Current Reports on Form 8-K, and that are otherwise described or updated from time to time in Hewlett Packard Enterprise’s Securities and Exchange Commission reports. Hewlett Packard Enterprise assumes no obligation and does not intend to update these forward-looking statements, except as required by applicable law.\\u2028\\u2028Media Contact:\\u2028John Choi\\u2028John.choi@hpe.com',\n",
       "    'Date': '2024-01-23',\n",
       "    'Title': 'Hewlett Packard Enterprise announces Neil MacDonald as leader of HPC & AI business segment\\n'}]],\n",
       " 'embeddings': None,\n",
       " 'documents': [['Antonio Neri is President and Chief Executive Officer of Hewlett Packard Enterprise (HPE), responsible for leading the development and delivery of enterprise technology solutions and services that help organizations accelerate business outcomes by unlocking value from all of their data, everywhere.\\n\\nSince being named CEO in February 2018, Antonio has leveraged his deep experience as a business leader and technologist to transform HPE into the global edge-to-cloud company. He has led the introduction of leading innovations such as HPE GreenLake, the company’s unified, automated, and secure hybrid-cloud experience, and Frontier, the world’s first supercomputer to break the exascale speed barrier.\\n\\nAntonio has accelerated the company’s innovation organically and through targeted acquisitions, including Aruba Networks, Axis Security, Cray, Determined AI, Nimble Storage, Pachyderm, Silicon Graphics, Silver Peak, and Zerto, among others.\\n\\nUnder his leadership, HPE has also achieved its highest level of team member engagement in company history and has been recognized as a great place to work, including ranking #19 in Fortune’s 100 Best Companies to Work For® 2022.\\n\\nPrior to his role as CEO, Antonio spent more than 23 years at Hewlett-Packard Company (HP) and HPE, holding numerous leadership positions, including President; Executive Vice President & General Manager of HPE’s Enterprise Group; leader of HP’s Server and Networking business; and head of HP’s Technology Services business. \\n\\nAntonio currently serves on the Board of Directors of Elevance Health, Inc. (formerly Anthem, Inc.) and on Maserati and ROKiT Venturi Racing’s Advisory Board. He also serves on the International Business Council of the World Economic Forum and on the Technology Committee of the Business Roundtable. \\n\\nAntonio graduated from Escuela Nacional de Educación Técnica in Argentina and attended the Universidad Tecnólgica Nacional.',\n",
       "   \"Learning more about Bobby's career path, his advice for others, and what he does in his down time\\r\\nLeading the charge to ensure HPE’s digital and physical assets are always protected is his primary job. Being passionate about football and a stickler for designer shoes is part of his alter-ego.\\r\\n\\r\\nWe had a chance to catch up with Bobby and get to know him a little better.  What is the best thing about working in IT security?\\r\\n\\r\\nInformation security, or cybersecurity, is a really cool field. It’s an industry that's been around for more than 30 years, and it's still at the beginning. It is fast-paced and continually evolving, so there is always more that we need to understand.  This is also why companies continue to invest heavily in IT security.\\r\\n\\r\\nWhat advice would you have for someone who wants to get into IT security?\\r\\n\\r\\nI would say understand how truly broad a topic it is and don't be intimidated by the technical aspects of it.  When you think of cybersecurity, you shouldn't immediately think tech. There are different functions and so many different roles that exist in cybersecurity, and not all of them are deeply technical.\\r\\n\\r\\nWhat excites you about working in this field, specifically at HPE?\\r\\n\\r\\nI believe that we are truly transforming the way people consume and view technology. Being at HPE, we are helping an entire industry transform. Very rarely do you get an opportunity to be part of something this big, and I'm thankful to be here.\\r\\n\\r\\nWhat drives you as a chief security officer?\\r\\n\\r\\nThe opportunity to protect our data, to protect our assets, and essentially, to protect our business, is what drives me. People tend to think that security is synonymous with defense. I love that theory because if you are a sports fan, you already know that defense wins the championships.\\r\\n\\r\\nYou’re a self-proclaimed designer shoe aficionado. Tell us more.\\r\\n\\r\\nI love fashion. I think it stems from my parents.  They were into fashion and made sure we always looked our best at church, the first day of school, and other big events. So, it stuck with me, especially shoes.  I think the most significant part of anyone's fashion is their shoes, and I can tell a lot about an individual based on their shoe game.\\r\\n\\r\\nI knew I was supposed to be at HPE the first time I met Antonio Neri because his shoe game is flawless.\",\n",
       "   'IN THIS ARTICLE\\nMajor rose through HPE leadership ranks in employment law and HR to become member of executive team, reporting to CEO Antonio Neri\\nMay to remain with HPE to support the organizational integration of Juniper Networks, which HPE intends to acquire\\n\\nSucceeds Alan May, HPE\\'s first CPO who helped shape talent strategy and award-winning culture\\nHOUSTON – January 23, 2024 –\\xa0Hewlett Packard Enterprise\\xa0(NYSE: HPE) today named Kristin Major as executive vice president and chief people officer (CPO), effective February 1, 2024, reporting to president and chief executive officer Antonio Neri.\\xa0\\u2028\\u2028Major has been with HPE since 2011, most recently serving as senior vice president of human resources (HR) and chief talent officer. Over the course of her career with HPE, Major has led HR for HPE GreenLake, HPE Aruba Networking, the HPE Transformation Office, and HPE’s chief technology officer. Prior to joining the HR function, Major was the chief employment counsel for the company for eight years as part of the Operations, Legal, and Administrative Affairs organization.\\xa0\\n“Having worked in several different parts of the business over the last 12 years, Kristin has strong relationships and a deep understanding of the needs and opportunities across the enterprise.”\\n“Having worked in several different parts of the business over the last 12 years, Kristin has strong relationships and a deep understanding of the needs and opportunities across the enterprise,” said Neri. “Our team members love her, and she shares my passion for culture and creating an environment where our team members can thrive.”\\u2028\\u2028“This really is my dream job. I love this company and I care deeply about our team members and about making their lives better – both professionally and personally,” said Major. “My top priority is building high-performance teams and cultivating and supporting highly engaged leaders who enable team members to take on new challenges, learn, and grow in a healthy, inclusive environment.”\\xa0\\n“This really is my dream job. I love this company and I care deeply about our team members and about making their lives better – both professionally and personally.”\\u2028\\nBefore joining HPE, Major was a labor and employment counsel at Skadden, Arps, Slate, Meagher & Flom in Palo Alto, California. Major holds a law degree from Georgetown University and received her undergraduate degree from the University of Arizona.\\u2028\\u2028Major succeeds Alan May, who held the CPO role since joining the company in 2015. During his tenure, May transformed HPE’s Human Resource function to foster innovation, raise the bar on talent, increase diversity, introduce industry-leading benefits, and advance culture and business results. He played an instrumental role in the 2015 formation of HPE in its separation from HP, and guided many subsequent transformation efforts, spin-offs and acquisitions. May will remain with HPE to support the organizational integration of Juniper Networks, which HPE announced earlier this month it intends to acquire.\\xa0\\u2028\\u2028“Alan has been a trusted partner to me since I assumed the role of CEO in 2018, helping to advance our strategic priorities around culture, innovation, and transformation. Together we have made HPE a fantastic place to work that\\xa0cultivates extraordinary leaders like Kristin,” said Neri. “Alan will play a critical role in the expected integration of Juniper to successfully onboard our new team members into the HPE family while strengthening our culture and future.”\\nAbout Hewlett Packard Enterprise\\nHewlett Packard Enterprise (NYSE: HPE) is the global edge-to-cloud company that helps organizations accelerate outcomes by unlocking value from all of their data, everywhere. Built on decades of reimagining the future and innovating to advance the way people live and work, HPE delivers unique, open and intelligent technology solutions as a service.\\u202f With offerings spanning Cloud Services, Compute, High Performance Computing & AI, Intelligent Edge, Software, and Storage, HPE provides a consistent experience across all clouds and edges, helping customers develop new business models, engage in new ways, and increase operational performance. For more information, visit:\\u202fwww.hpe.com.\\u2028\\u2028Forward-looking Statements\\u2028\\u2028This press release contains forward-looking statements within the meaning of the safe harbor provisions of the Private Securities Litigation Reform Act of 1995. Such statements involve risks, uncertainties, and assumptions. If the risks or uncertainties ever materialize or the assumptions prove incorrect, the results of Hewlett Packard Enterprise Company and its consolidated subsidiaries (Hewlett Packard Enterprise) may differ materially from those expressed or implied by such forward-looking statements and assumptions. The words “believe,” “expect,” “anticipate,” “intend,” “will,” \"may,\" and similar expressions are intended to identify such forward-looking statements. All statements other than statements of historical fact are statements that could be deemed forward-looking statements, including but not limited to any projections of executive performance, financial performance, plans, strategies and objectives of management for future operations or performance, and the ability to successfully close the acquisition of and integrate Juniper Networks, Inc. Risks, uncertainties and assumptions include those that are described in HPE’s Annual Report on Form 10-K for the fiscal year ended October 31, 2023, Quarterly Reports on Form 10-Q, Current Reports on Form 8-K, and that are otherwise described or updated from time to time in Hewlett Packard Enterprise’s Securities and Exchange Commission reports. Hewlett Packard Enterprise assumes no obligation and does not intend to update these forward-looking statements, except as required by applicable law.\\u2028\\u2028Media Contact:\\u2028Adam Bauer\\u2028Adam.Bauer@hpe.com',\n",
       "   'HOUSTON, Texas – October 4, 2022 – Hewlett Packard Enterprise (NYSE: HPE) will host its Securities Analyst Meeting on October 19, 2022. Join the live webcast to hear Antonio Neri, president and CEO, and Tarek Robbiati, executive vice president and CFO, discuss HPE’s vision, strategy, and financial outlook.\\xa0\\n\\nThe webcast will begin Wednesday, October 19 at 2:30 p.m. CT (3:30 p.m. ET) and will be available at www.hpe.com/investor/SAM2022. Following the executives’ presentations, HPE will hold a live Q&A session.\\n\\r\\nA replay of the webcast will be available at the same website shortly after the call and will remain available for approximately one year. For additional information, see investors.hpe.com.\\xa0\\n\\nAbout Hewlett Packard Enterprise\\nHewlett Packard Enterprise (NYSE: HPE) is the global edge-to-cloud company that helps organizations accelerate outcomes by unlocking value from all of their data, everywhere. Built on decades of reimagining the future and innovating to advance the way people live and work, HPE delivers unique, open and intelligent technology solutions as a service. With offerings spanning Cloud Services, Compute, High Performance Computing & AI, Intelligent Edge, Software, and Storage, HPE provides a consistent experience across all clouds and edges, helping customers develop new business models, engage in new ways, and increase operational performance. For more information, visit: www.hpe.com.\\n\\r\\nEditorial contact\\nLaura Keller\\nLaura.Keller@hpe.com\\n\\r\\nInvestor contact\\nJeff Kvaal\\ninvestor.relations@hpe.com\\n\\nRELATED NEWS',\n",
       "   'HPE veteran of 28+ years brings proven leadership to accelerate Supercomputing and AI business\\nHOUSTON, Texas – January 23, 2024\\xa0–\\xa0Hewlett Packard Enterprise\\xa0(NYSE: HPE) today announced an expanded leadership role effective February 1, 2024 for Neil MacDonald, who has been appointed to lead the company’s HPC & AI business segment in addition to leading its Compute business. MacDonald will continue to report to president and chief executive officer, Antonio Neri and each business segment will continue to report its financial results independently. In his new role as the executive vice president and general manager of both Compute and HPC & AI, MacDonald will lead the team in accelerating HPE’s AI strategy by scaling cloud and software solutions with strong integration of HPE GreenLake. Additionally, the company announced that Hewlett Packard Labs will now move to reporting to Fidelma Russo, HPE’s Chief Technology Officer.\\xa0\\n“The HPC and AI business is critical to our ongoing strategy. Neil’s engineering background and expertise in silicon and AI, combined with his decades of proven leadership experience and passion for customer-driven innovation make him uniquely suited to lead this team”\\n“The HPC and AI business is critical to our ongoing strategy. Neil’s engineering background and expertise in silicon and AI, combined with his decades of proven leadership experience and passion for customer-driven innovation make him uniquely suited to lead this team,” said Neri. “Neil’s technical acumen, vision and passion for advancing HPE’s unique IP in supercomputing, AI infrastructure technologies, and our AI software platform will strengthen the role we can play in our customers’ most critical transformations.”\\xa0\\u2028\\u2028Notably, under MacDonald’s leadership, the Compute business recently expanded its strategic collaboration with NVIDIA to enhance HPE’s Compute portfolio and build a turnkey enterprise computing solution for GenAI to target a growing market.\\u2028\\u2028“AI and supercomputing are ground-breaking technologies that will soon transform every business and fuel next generation innovations that will fundamentally change the world,” said MacDonald. “I’m deeply committed to continue fostering the mission of our HPC & AI business and lead this incredibly talented team that’s dedicated to solving our customer’s most complex problems.”\\u2028\\u2028Prior to joining our predecessor, Hewlett-Packard Company, MacDonald was Commercial Manager at Edinburgh Parallel Computing Centre where he helped bring the transformational benefits of massively parallel supercomputing to industrial and commercial customers. He holds a bachelor\\'s degree in Artificial Intelligence with Computer Science and a Ph.D. in Computer Science from the University of Edinburgh, as well as an MBA from San Jose State University.\\xa0\\xa0\\nAbout Hewlett Packard Enterprise\\nHewlett Packard Enterprise (NYSE: HPE) is the global edge-to-cloud company that helps organizations accelerate outcomes by unlocking value from all of their data, everywhere. Built on decades of reimagining the future and innovating to advance the way people live and work, HPE delivers unique, open and intelligent technology solutions as a service.\\xa0 With offerings spanning Cloud Services, Compute, High Performance Computing & AI, Intelligent Edge, Software, and Storage, HPE provides a consistent experience across all clouds and edges, helping customers develop new business models, engage in new ways, and increase operational performance. For more information, visit:\\xa0www.hpe.com.\\u2028\\u2028Forward-looking Statements\\u2028\\u2028This press release contains forward-looking statements within the meaning of the safe harbor provisions of the Private Securities Litigation Reform Act of 1995. Such statements involve risks, uncertainties, and assumptions. If the risks or uncertainties ever materialize or the assumptions prove incorrect, the results of Hewlett Packard Enterprise Company and its consolidated subsidiaries (Hewlett Packard Enterprise) may differ materially from those expressed or implied by such forward-looking statements and assumptions. The words “believe,” “expect,” “anticipate,” “intend,” “will,” \"may,\" and similar expressions are intended to identify such forward-looking statements. All statements other than statements of historical fact are statements that could be deemed forward-looking statements, including but not limited to any projections of executive performance, financial performance, plans, strategies and objectives of management for future operations or performance. Risks, uncertainties and assumptions include those that are described in HPE’s Annual Report on Form 10-K for the fiscal year ended October 31, 2023, Quarterly Reports on Form 10-Q, Current Reports on Form 8-K, and that are otherwise described or updated from time to time in Hewlett Packard Enterprise’s Securities and Exchange Commission reports. Hewlett Packard Enterprise assumes no obligation and does not intend to update these forward-looking statements, except as required by applicable law.\\u2028\\u2028Media Contact:\\u2028John Choi\\u2028John.choi@hpe.com']],\n",
       " 'uris': None,\n",
       " 'data': None}"
      ]
     },
     "execution_count": 7,
     "metadata": {},
     "output_type": "execute_result"
    }
   ],
   "source": [
    "results = collection.query(query_texts=[question], n_results=5)\n",
    "\n",
    "date_strings = [i['Date'] for i in results['metadatas'][0]]\n",
    "# Your list of datetime strings\n",
    "# date_strings = ['2017-11-21', '2018-03-19', '2022-01-28', '2023-06-20', '2022-04-27']\n",
    "# Step 1: Parse strings into datetime objects\n",
    "date_objects = [datetime.fromisoformat(date_str) for date_str in date_strings]\n",
    "\n",
    "# Step 2: Extract year, month, and day\n",
    "formatted_dates = [dt.strftime('%Y-%m-%d') for dt in date_objects]\n",
    "\n",
    "# Step 3: Sort datetime objects while keeping track of original indices\n",
    "sorted_dates_with_indices = sorted(enumerate(zip(date_objects, formatted_dates)),\n",
    "                                   key=lambda x: x[1][0], reverse=True)\n",
    "\n",
    "# Extract sorted dates and original indices\n",
    "sorted_dates = [date_str for _, (dt, date_str) in sorted_dates_with_indices]\n",
    "original_indices = [index for index, _ in sorted_dates_with_indices]\n",
    "\n",
    "# Print the result\n",
    "print(\"Sorted Dates:\", sorted_dates)\n",
    "print(\"Original Indices:\", original_indices)\n",
    "results_x = [results[\"documents\"][0][original_indices[0]],\n",
    "             results[\"documents\"][0][original_indices[1]],\n",
    "             results[\"documents\"][0][original_indices[2]]]# get the first three document\n",
    "results"
   ]
  },
  {
   "cell_type": "code",
   "execution_count": 8,
   "id": "ca1b78f2-675d-4445-bcd3-62d399b0ee6a",
   "metadata": {},
   "outputs": [
    {
     "data": {
      "text/plain": [
       "['Antonio Neri is President and Chief Executive Officer of Hewlett Packard Enterprise (HPE), responsible for leading the development and delivery of enterprise technology solutions and services that help organizations accelerate business outcomes by unlocking value from all of their data, everywhere.\\n\\nSince being named CEO in February 2018, Antonio has leveraged his deep experience as a business leader and technologist to transform HPE into the global edge-to-cloud company. He has led the introduction of leading innovations such as HPE GreenLake, the company’s unified, automated, and secure hybrid-cloud experience, and Frontier, the world’s first supercomputer to break the exascale speed barrier.\\n\\nAntonio has accelerated the company’s innovation organically and through targeted acquisitions, including Aruba Networks, Axis Security, Cray, Determined AI, Nimble Storage, Pachyderm, Silicon Graphics, Silver Peak, and Zerto, among others.\\n\\nUnder his leadership, HPE has also achieved its highest level of team member engagement in company history and has been recognized as a great place to work, including ranking #19 in Fortune’s 100 Best Companies to Work For® 2022.\\n\\nPrior to his role as CEO, Antonio spent more than 23 years at Hewlett-Packard Company (HP) and HPE, holding numerous leadership positions, including President; Executive Vice President & General Manager of HPE’s Enterprise Group; leader of HP’s Server and Networking business; and head of HP’s Technology Services business. \\n\\nAntonio currently serves on the Board of Directors of Elevance Health, Inc. (formerly Anthem, Inc.) and on Maserati and ROKiT Venturi Racing’s Advisory Board. He also serves on the International Business Council of the World Economic Forum and on the Technology Committee of the Business Roundtable. \\n\\nAntonio graduated from Escuela Nacional de Educación Técnica in Argentina and attended the Universidad Tecnólgica Nacional.',\n",
       " 'IN THIS ARTICLE\\nMajor rose through HPE leadership ranks in employment law and HR to become member of executive team, reporting to CEO Antonio Neri\\nMay to remain with HPE to support the organizational integration of Juniper Networks, which HPE intends to acquire\\n\\nSucceeds Alan May, HPE\\'s first CPO who helped shape talent strategy and award-winning culture\\nHOUSTON – January 23, 2024 –\\xa0Hewlett Packard Enterprise\\xa0(NYSE: HPE) today named Kristin Major as executive vice president and chief people officer (CPO), effective February 1, 2024, reporting to president and chief executive officer Antonio Neri.\\xa0\\u2028\\u2028Major has been with HPE since 2011, most recently serving as senior vice president of human resources (HR) and chief talent officer. Over the course of her career with HPE, Major has led HR for HPE GreenLake, HPE Aruba Networking, the HPE Transformation Office, and HPE’s chief technology officer. Prior to joining the HR function, Major was the chief employment counsel for the company for eight years as part of the Operations, Legal, and Administrative Affairs organization.\\xa0\\n“Having worked in several different parts of the business over the last 12 years, Kristin has strong relationships and a deep understanding of the needs and opportunities across the enterprise.”\\n“Having worked in several different parts of the business over the last 12 years, Kristin has strong relationships and a deep understanding of the needs and opportunities across the enterprise,” said Neri. “Our team members love her, and she shares my passion for culture and creating an environment where our team members can thrive.”\\u2028\\u2028“This really is my dream job. I love this company and I care deeply about our team members and about making their lives better – both professionally and personally,” said Major. “My top priority is building high-performance teams and cultivating and supporting highly engaged leaders who enable team members to take on new challenges, learn, and grow in a healthy, inclusive environment.”\\xa0\\n“This really is my dream job. I love this company and I care deeply about our team members and about making their lives better – both professionally and personally.”\\u2028\\nBefore joining HPE, Major was a labor and employment counsel at Skadden, Arps, Slate, Meagher & Flom in Palo Alto, California. Major holds a law degree from Georgetown University and received her undergraduate degree from the University of Arizona.\\u2028\\u2028Major succeeds Alan May, who held the CPO role since joining the company in 2015. During his tenure, May transformed HPE’s Human Resource function to foster innovation, raise the bar on talent, increase diversity, introduce industry-leading benefits, and advance culture and business results. He played an instrumental role in the 2015 formation of HPE in its separation from HP, and guided many subsequent transformation efforts, spin-offs and acquisitions. May will remain with HPE to support the organizational integration of Juniper Networks, which HPE announced earlier this month it intends to acquire.\\xa0\\u2028\\u2028“Alan has been a trusted partner to me since I assumed the role of CEO in 2018, helping to advance our strategic priorities around culture, innovation, and transformation. Together we have made HPE a fantastic place to work that\\xa0cultivates extraordinary leaders like Kristin,” said Neri. “Alan will play a critical role in the expected integration of Juniper to successfully onboard our new team members into the HPE family while strengthening our culture and future.”\\nAbout Hewlett Packard Enterprise\\nHewlett Packard Enterprise (NYSE: HPE) is the global edge-to-cloud company that helps organizations accelerate outcomes by unlocking value from all of their data, everywhere. Built on decades of reimagining the future and innovating to advance the way people live and work, HPE delivers unique, open and intelligent technology solutions as a service.\\u202f With offerings spanning Cloud Services, Compute, High Performance Computing & AI, Intelligent Edge, Software, and Storage, HPE provides a consistent experience across all clouds and edges, helping customers develop new business models, engage in new ways, and increase operational performance. For more information, visit:\\u202fwww.hpe.com.\\u2028\\u2028Forward-looking Statements\\u2028\\u2028This press release contains forward-looking statements within the meaning of the safe harbor provisions of the Private Securities Litigation Reform Act of 1995. Such statements involve risks, uncertainties, and assumptions. If the risks or uncertainties ever materialize or the assumptions prove incorrect, the results of Hewlett Packard Enterprise Company and its consolidated subsidiaries (Hewlett Packard Enterprise) may differ materially from those expressed or implied by such forward-looking statements and assumptions. The words “believe,” “expect,” “anticipate,” “intend,” “will,” \"may,\" and similar expressions are intended to identify such forward-looking statements. All statements other than statements of historical fact are statements that could be deemed forward-looking statements, including but not limited to any projections of executive performance, financial performance, plans, strategies and objectives of management for future operations or performance, and the ability to successfully close the acquisition of and integrate Juniper Networks, Inc. Risks, uncertainties and assumptions include those that are described in HPE’s Annual Report on Form 10-K for the fiscal year ended October 31, 2023, Quarterly Reports on Form 10-Q, Current Reports on Form 8-K, and that are otherwise described or updated from time to time in Hewlett Packard Enterprise’s Securities and Exchange Commission reports. Hewlett Packard Enterprise assumes no obligation and does not intend to update these forward-looking statements, except as required by applicable law.\\u2028\\u2028Media Contact:\\u2028Adam Bauer\\u2028Adam.Bauer@hpe.com',\n",
       " 'HPE veteran of 28+ years brings proven leadership to accelerate Supercomputing and AI business\\nHOUSTON, Texas – January 23, 2024\\xa0–\\xa0Hewlett Packard Enterprise\\xa0(NYSE: HPE) today announced an expanded leadership role effective February 1, 2024 for Neil MacDonald, who has been appointed to lead the company’s HPC & AI business segment in addition to leading its Compute business. MacDonald will continue to report to president and chief executive officer, Antonio Neri and each business segment will continue to report its financial results independently. In his new role as the executive vice president and general manager of both Compute and HPC & AI, MacDonald will lead the team in accelerating HPE’s AI strategy by scaling cloud and software solutions with strong integration of HPE GreenLake. Additionally, the company announced that Hewlett Packard Labs will now move to reporting to Fidelma Russo, HPE’s Chief Technology Officer.\\xa0\\n“The HPC and AI business is critical to our ongoing strategy. Neil’s engineering background and expertise in silicon and AI, combined with his decades of proven leadership experience and passion for customer-driven innovation make him uniquely suited to lead this team”\\n“The HPC and AI business is critical to our ongoing strategy. Neil’s engineering background and expertise in silicon and AI, combined with his decades of proven leadership experience and passion for customer-driven innovation make him uniquely suited to lead this team,” said Neri. “Neil’s technical acumen, vision and passion for advancing HPE’s unique IP in supercomputing, AI infrastructure technologies, and our AI software platform will strengthen the role we can play in our customers’ most critical transformations.”\\xa0\\u2028\\u2028Notably, under MacDonald’s leadership, the Compute business recently expanded its strategic collaboration with NVIDIA to enhance HPE’s Compute portfolio and build a turnkey enterprise computing solution for GenAI to target a growing market.\\u2028\\u2028“AI and supercomputing are ground-breaking technologies that will soon transform every business and fuel next generation innovations that will fundamentally change the world,” said MacDonald. “I’m deeply committed to continue fostering the mission of our HPC & AI business and lead this incredibly talented team that’s dedicated to solving our customer’s most complex problems.”\\u2028\\u2028Prior to joining our predecessor, Hewlett-Packard Company, MacDonald was Commercial Manager at Edinburgh Parallel Computing Centre where he helped bring the transformational benefits of massively parallel supercomputing to industrial and commercial customers. He holds a bachelor\\'s degree in Artificial Intelligence with Computer Science and a Ph.D. in Computer Science from the University of Edinburgh, as well as an MBA from San Jose State University.\\xa0\\xa0\\nAbout Hewlett Packard Enterprise\\nHewlett Packard Enterprise (NYSE: HPE) is the global edge-to-cloud company that helps organizations accelerate outcomes by unlocking value from all of their data, everywhere. Built on decades of reimagining the future and innovating to advance the way people live and work, HPE delivers unique, open and intelligent technology solutions as a service.\\xa0 With offerings spanning Cloud Services, Compute, High Performance Computing & AI, Intelligent Edge, Software, and Storage, HPE provides a consistent experience across all clouds and edges, helping customers develop new business models, engage in new ways, and increase operational performance. For more information, visit:\\xa0www.hpe.com.\\u2028\\u2028Forward-looking Statements\\u2028\\u2028This press release contains forward-looking statements within the meaning of the safe harbor provisions of the Private Securities Litigation Reform Act of 1995. Such statements involve risks, uncertainties, and assumptions. If the risks or uncertainties ever materialize or the assumptions prove incorrect, the results of Hewlett Packard Enterprise Company and its consolidated subsidiaries (Hewlett Packard Enterprise) may differ materially from those expressed or implied by such forward-looking statements and assumptions. The words “believe,” “expect,” “anticipate,” “intend,” “will,” \"may,\" and similar expressions are intended to identify such forward-looking statements. All statements other than statements of historical fact are statements that could be deemed forward-looking statements, including but not limited to any projections of executive performance, financial performance, plans, strategies and objectives of management for future operations or performance. Risks, uncertainties and assumptions include those that are described in HPE’s Annual Report on Form 10-K for the fiscal year ended October 31, 2023, Quarterly Reports on Form 10-Q, Current Reports on Form 8-K, and that are otherwise described or updated from time to time in Hewlett Packard Enterprise’s Securities and Exchange Commission reports. Hewlett Packard Enterprise assumes no obligation and does not intend to update these forward-looking statements, except as required by applicable law.\\u2028\\u2028Media Contact:\\u2028John Choi\\u2028John.choi@hpe.com']"
      ]
     },
     "execution_count": 8,
     "metadata": {},
     "output_type": "execute_result"
    }
   ],
   "source": [
    "results_x"
   ]
  },
  {
   "cell_type": "code",
   "execution_count": 9,
   "id": "62092f17-7b19-4ffd-862e-05ea52e85858",
   "metadata": {},
   "outputs": [
    {
     "name": "stdout",
     "output_type": "stream",
     "text": [
      "len(results2):  8500\n",
      "=========prompt=============: \n",
      "[INST]`Antonio Neri is President and Chief Executive Officer of Hewlett Packard Enterprise (HPE), responsible for leading the development and delivery of enterprise technology solutions and services that help organizations accelerate business outcomes by unlocking value from all of their data, everywhere.\n",
      "\n",
      "Since being named CEO in February 2018, Antonio has leveraged his deep experience as a business leader and technologist to transform HPE into the global edge-to-cloud company. He has led the introduction of leading innovations such as HPE GreenLake, the company’s unified, automated, and secure hybrid-cloud experience, and Frontier, the world’s first supercomputer to break the exascale speed barrier.\n",
      "\n",
      "Antonio has accelerated the company’s innovation organically and through targeted acquisitions, including Aruba Networks, Axis Security, Cray, Determined AI, Nimble Storage, Pachyderm, Silicon Graphics, Silver Peak, and Zerto, among others.\n",
      "\n",
      "Under his leadership, HPE has also achieved its highest level of team member engagement in company history and has been recognized as a great place to work, including ranking #19 in Fortune’s 100 Best Companies to Work For® 2022.\n",
      "\n",
      "Prior to his role as CEO, Antonio spent more than 23 years at Hewlett-Packard Company (HP) and HPE, holding numerous leadership positions, including President; Executive Vice President & General Manager of HPE’s Enterprise Group; leader of HP’s Server and Networking business; and head of HP’s Technology Services business. \n",
      "\n",
      "Antonio currently serves on the Board of Directors of Elevance Health, Inc. (formerly Anthem, Inc.) and on Maserati and ROKiT Venturi Racing’s Advisory Board. He also serves on the International Business Council of the World Economic Forum and on the Technology Committee of the Business Roundtable. \n",
      "\n",
      "Antonio graduated from Escuela Nacional de Educación Técnica in Argentina and attended the Universidad Tecnólgica Nacional.\n",
      "IN THIS ARTICLE\n",
      "Major rose through HPE leadership ranks in employment law and HR to become member of executive team, reporting to CEO Antonio Neri\n",
      "May to remain with HPE to support the organizational integration of Juniper Networks, which HPE intends to acquire\n",
      "\n",
      "Succeeds Alan May, HPE's first CPO who helped shape talent strategy and award-winning culture\n",
      "HOUSTON – January 23, 2024 – Hewlett Packard Enterprise (NYSE: HPE) today named Kristin Major as executive vice president and chief people officer (CPO), effective February 1, 2024, reporting to president and chief executive officer Antonio Neri.  ",
      " ",
      "Major has been with HPE since 2011, most recently serving as senior vice president of human resources (HR) and chief talent officer. Over the course of her career with HPE, Major has led HR for HPE GreenLake, HPE Aruba Networking, the HPE Transformation Office, and HPE’s chief technology officer. Prior to joining the HR function, Major was the chief employment counsel for the company for eight years as part of the Operations, Legal, and Administrative Affairs organization. \n",
      "“Having worked in several different parts of the business over the last 12 years, Kristin has strong relationships and a deep understanding of the needs and opportunities across the enterprise.”\n",
      "“Having worked in several different parts of the business over the last 12 years, Kristin has strong relationships and a deep understanding of the needs and opportunities across the enterprise,” said Neri. “Our team members love her, and she shares my passion for culture and creating an environment where our team members can thrive.” ",
      " ",
      "“This really is my dream job. I love this company and I care deeply about our team members and about making their lives better – both professionally and personally,” said Major. “My top priority is building high-performance teams and cultivating and supporting highly engaged leaders who enable team members to take on new challenges, learn, and grow in a healthy, inclusive environment.” \n",
      "“This really is my dream job. I love this company and I care deeply about our team members and about making their lives better – both professionally and personally.” ",
      "\n",
      "Before joining HPE, Major was a labor and employment counsel at Skadden, Arps, Slate, Meagher & Flom in Palo Alto, California. Major holds a law degree from Georgetown University and received her undergraduate degree from the University of Arizona. ",
      " ",
      "Major succeeds Alan May, who held the CPO role since joining the company in 2015. During his tenure, May transformed HPE’s Human Resource function to foster innovation, raise the bar on talent, increase diversity, introduce industry-leading benefits, and advance culture and business results. He played an instrumental role in the 2015 formation of HPE in its separation from HP, and guided many subsequent transformation efforts, spin-offs and acquisitions. May will remain with HPE to support the organizational integration of Juniper Networks, which HPE announced earlier this month it intends to acquire.  ",
      " ",
      "“Alan has been a trusted partner to me since I assumed the role of CEO in 2018, helping to advance our strategic priorities around culture, innovation, and transformation. Together we have made HPE a fantastic place to work that cultivates extraordinary leaders like Kristin,” said Neri. “Alan will play a critical role in the expected integration of Juniper to successfully onboard our new team members into the HPE family while strengthening our culture and future.”\n",
      "About Hewlett Packard Enterprise\n",
      "Hewlett Packard Enterprise (NYSE: HPE) is the global edge-to-cloud company that helps organizations accelerate outcomes by unlocking value from all of their data, everywhere. Built on decades of reimagining the future and innovating to advance the way people live and work, HPE delivers unique, open and intelligent technology solutions as a service.  With offerings spanning Cloud Services, Compute, High Performance Computing & AI, Intelligent Edge, Software, and Storage, HPE provides a consistent experience across all clouds and edges, helping customers develop new business models, engage in new ways, and increase operational performance. For more information, visit: www.hpe.com. ",
      " ",
      "Forward-looking Statements ",
      " ",
      "This press release contains forward-looking statements within the meaning of the safe harbor provisions of the Private Securities Litigation Reform Act of 1995. Such statements involve risks, uncertainties, and assumptions. If the risks or uncertainties ever materialize or the assumptions prove incorrect, the results of Hewlett Packard Enterprise Company and its consolidated subsidiaries (Hewlett Packard Enterprise) may differ materially from those expressed or implied by such forward-looking statements and assumptions. The words “believe,” “expect,” “anticipate,” “intend,” “will,” \"may,\" and similar expressions are intended to identify such forward-looking statements. All statements other than statements of historical fact are statements that could be deemed forward-looking statements, including but not limited to any projections of executive performance, financial performance, plans, strategies and objectives of management for future operations or performance, and the ability to successfully close the acquisition of and integrate Juniper Networks, Inc. Risks, uncertainties and assumptions include those that are described in HPE’s Annual Report on Form 10-K for the fiscal year ended October 31, 2023, Quarterly Reports on Form 10-Q, Current Reports on Form 8-K, and that are otherwise described or updated from time to time in Hewlett Packard Enterprise’s Securities and Exchange Commission reports. Hewlett Packard Enterprise assumes no obligation and does not intend to update these forward-looking statements, except as required by applicable law. ",
      " ",
      "Media Contact: ",
      "Adam Bauer ",
      "Adam.Bauer@hpe.com\n",
      "HPE veteran of 28+ years brings proven leadership to accelerate Supercomputing and AI business\n",
      "HOUSTON, Texas – January 23, 2024 – Hewlett Packard Enterprise (NYSE: HPE) today announced an expanded leadership role effective February 1, 2024 for Neil MacDonald, who has been appointed to lead the company’s HPC & AI business segment in addition to leading its Compute business. MacDonald will continue to report to president and chief executive officer, Antonio Neri and each business segment will continue to report its financial results independently. In his new role as the executive vice president and general manager of both Compute and HPC & AI, MacDonald will lead the team in accelerating HPE`. Using the above information, answer the following question: Who is Antonio Neri?.Answer factually and concisely, answer at most in three sentences. Respond in a natural way, like you are having a conversation with a friend.[/INST]\n",
      "=========end_of_prompt=============\n"
     ]
    }
   ],
   "source": [
    "# await show_sources(results)\n",
    "# print(\"results: \",results)`\n",
    "'''\n",
    "2/6/24 (Andrew): Add limit to ensure that any press release does not exceed >14k. \n",
    "This assumes TitanML API deployed on A100\n",
    "This will decrease when API is deployed no T4.\n",
    "'''\n",
    "results2 = \"\\n\".join(results_x)\n",
    "results2 = results2[:8500]\n",
    "print(\"len(results2): \",len(results2))\n",
    "# print(\"results2: \",results2)\n",
    "prompt = f\"[INST]`{results2}`. Using the above information, answer the following question: {question}.Answer factually and concisely, answer at most in three sentences. Respond in a natural way, like you are having a conversation with a friend.[/INST]\"\n",
    "print(\"=========prompt=============: \")\n",
    "print(prompt)\n",
    "print(\"=========end_of_prompt=============\")"
   ]
  },
  {
   "cell_type": "code",
   "execution_count": null,
   "id": "abbbf46a-1fce-49de-9cae-456925022fa0",
   "metadata": {},
   "outputs": [],
   "source": []
  },
  {
   "cell_type": "code",
   "execution_count": null,
   "id": "4afaab42-d301-464f-9eab-1e840577b41b",
   "metadata": {},
   "outputs": [],
   "source": []
  }
 ],
 "metadata": {
  "kernelspec": {
   "display_name": "Python 3 (ipykernel)",
   "language": "python",
   "name": "python3"
  },
  "language_info": {
   "codemirror_mode": {
    "name": "ipython",
    "version": 3
   },
   "file_extension": ".py",
   "mimetype": "text/x-python",
   "name": "python",
   "nbconvert_exporter": "python",
   "pygments_lexer": "ipython3",
   "version": "3.8.18"
  }
 },
 "nbformat": 4,
 "nbformat_minor": 5
}
