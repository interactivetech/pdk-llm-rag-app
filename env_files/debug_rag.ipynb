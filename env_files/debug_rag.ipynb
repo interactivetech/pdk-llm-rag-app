{
 "cells": [
  {
   "cell_type": "code",
   "execution_count": null,
   "id": "976b108a-2b0f-416f-8c59-41064db0ed85",
   "metadata": {},
   "outputs": [],
   "source": [
    "# Debug RAG"
   ]
  },
  {
   "cell_type": "code",
   "execution_count": null,
   "id": "8a2f7700-d6b7-486c-8a25-131823c92302",
   "metadata": {},
   "outputs": [],
   "source": [
    "%%capture\n",
    "!pip install chainlit"
   ]
  },
  {
   "cell_type": "code",
   "execution_count": null,
   "id": "a7e16f8c-9259-407c-9f0c-68d2d5935c64",
   "metadata": {},
   "outputs": [],
   "source": [
    "import chainlit as cl \n",
    "import chromadb \n",
    "import requests \n",
    "import os\n",
    "from chromadb.config import Settings\n",
    "from datetime import datetime\n",
    "from chromadb.utils import embedding_functions\n",
    "\n",
    "api_host = '8080'\n",
    "api_port = '10.182.1.48'\n",
    "RAG_DB_PATH='/nvmefs1/test_user/cache/rag_db3/'\n",
    "EMB_PATH='/nvmefs1/test_user/cache/vector_model/e5-base-v2'\n",
    "print(api_host,api_port,RAG_DB_PATH,EMB_PATH)\n",
    "#parser = argparse.ArgumentParser(description=\"Process a file.\") \n",
    "#path = '/mnt/efs/shared_fs/determined/rag_db/' \n",
    "#db = chromadb.PersistentClient(path=path) \n",
    "#collection = db.get_collection(\"HPE_press_releases\") \n",
    "#EXTERNAL_IP=\"10.239.100.80\"\n",
    "#parser.add_argument(\"external_api_ip\", default=None,help=\"External IP for API\") \n",
    "#parser.add_argument(\"path_to_db\", default='/mnt/efs/shared_fs/determined/rag_db',help=\"Path to vector db in container\")\n",
    "#parser.add_argument(\"host\",default=\"0.0.0.0\")\n",
    "#parser.add_argument(\"port\", default=8085)\n",
    "\n",
    "#titan_url = \"http://{}:8006/generate_stream\".format(EXTERNAL_IP)\n",
    "#args = parser.parse_args()\n",
    "\n",
    "\n",
    "#path = '/mnt/efs/shared_fs/determined/rag_db/'\n",
    "path = RAG_DB_PATH\n",
    "settings = chromadb.get_settings()\n",
    "settings.allow_reset = True\n",
    "db = chromadb.PersistentClient(path=path,settings=settings)\n",
    "emb_fn = embedding_functions.SentenceTransformerEmbeddingFunction(\n",
    "    model_name=EMB_PATH, device=\"cpu\"\n",
    ")\n",
    "collection = db.get_collection(\"HPE_press_releases\",embedding_function=emb_fn)\n",
    "#parser.add_argument(\"filepath\", help=\"Path to the XML file\")\n",
    "titan_url = \"http://{}:{}/generate_stream\".format(api_host,api_port)\n",
    "print(\"Titan URL: \",titan_url)\n",
    "\n"
   ]
  },
  {
   "cell_type": "code",
   "execution_count": null,
   "id": "92fbd469-8a81-4297-a9ce-f857eae3df93",
   "metadata": {},
   "outputs": [],
   "source": [
    "# df.shape"
   ]
  },
  {
   "cell_type": "code",
   "execution_count": null,
   "id": "90a59d47-b34f-448a-8ee7-a2d82d538b7a",
   "metadata": {},
   "outputs": [],
   "source": [
    "question = 'Who is Antonio Neri?'"
   ]
  },
  {
   "cell_type": "code",
   "execution_count": null,
   "id": "1ca8a463-2107-4f2e-8eb9-81e8af71ade8",
   "metadata": {},
   "outputs": [],
   "source": [
    "results = collection.query(query_texts=[question], n_results=5)\n",
    "\n",
    "date_strings = [i['Date'] for i in results['metadatas'][0]]\n",
    "# Your list of datetime strings\n",
    "# date_strings = ['2017-11-21', '2018-03-19', '2022-01-28', '2023-06-20', '2022-04-27']\n",
    "# Step 1: Parse strings into datetime objects\n",
    "date_objects = [datetime.fromisoformat(date_str) for date_str in date_strings]\n",
    "\n",
    "# Step 2: Extract year, month, and day\n",
    "formatted_dates = [dt.strftime('%Y-%m-%d') for dt in date_objects]\n",
    "\n",
    "# Step 3: Sort datetime objects while keeping track of original indices\n",
    "sorted_dates_with_indices = sorted(enumerate(zip(date_objects, formatted_dates)),\n",
    "                                   key=lambda x: x[1][0], reverse=True)\n",
    "\n",
    "# Extract sorted dates and original indices\n",
    "sorted_dates = [date_str for _, (dt, date_str) in sorted_dates_with_indices]\n",
    "original_indices = [index for index, _ in sorted_dates_with_indices]\n",
    "\n",
    "# Print the result\n",
    "print(\"Sorted Dates:\", sorted_dates)\n",
    "print(\"Original Indices:\", original_indices)\n",
    "results_x = [results[\"documents\"][0][original_indices[0]],\n",
    "             results[\"documents\"][0][original_indices[1]],\n",
    "             results[\"documents\"][0][original_indices[2]]]# get the first three document\n",
    "results"
   ]
  },
  {
   "cell_type": "code",
   "execution_count": null,
   "id": "ca1b78f2-675d-4445-bcd3-62d399b0ee6a",
   "metadata": {},
   "outputs": [],
   "source": [
    "results_x"
   ]
  },
  {
   "cell_type": "code",
   "execution_count": null,
   "id": "62092f17-7b19-4ffd-862e-05ea52e85858",
   "metadata": {},
   "outputs": [],
   "source": [
    "# await show_sources(results)\n",
    "# print(\"results: \",results)`\n",
    "'''\n",
    "2/6/24 (Andrew): Add limit to ensure that any press release does not exceed >14k. \n",
    "This assumes TitanML API deployed on A100\n",
    "This will decrease when API is deployed no T4.\n",
    "'''\n",
    "results2 = \"\\n\".join(results_x)\n",
    "results2 = results2[:8500]\n",
    "print(\"len(results2): \",len(results2))\n",
    "# print(\"results2: \",results2)\n",
    "prompt = f\"[INST]`{results2}`. Using the above information, answer the following question: {question}.Answer factually and concisely, answer at most in three sentences. Respond in a natural way, like you are having a conversation with a friend.[/INST]\"\n",
    "print(\"=========prompt=============: \")\n",
    "print(prompt)\n",
    "print(\"=========end_of_prompt=============\")"
   ]
  },
  {
   "cell_type": "code",
   "execution_count": null,
   "id": "abbbf46a-1fce-49de-9cae-456925022fa0",
   "metadata": {},
   "outputs": [],
   "source": []
  },
  {
   "cell_type": "code",
   "execution_count": null,
   "id": "4afaab42-d301-464f-9eab-1e840577b41b",
   "metadata": {},
   "outputs": [],
   "source": []
  }
 ],
 "metadata": {
  "kernelspec": {
   "display_name": "Python 3 (ipykernel)",
   "language": "python",
   "name": "python3"
  },
  "language_info": {
   "codemirror_mode": {
    "name": "ipython",
    "version": 3
   },
   "file_extension": ".py",
   "mimetype": "text/x-python",
   "name": "python",
   "nbconvert_exporter": "python",
   "pygments_lexer": "ipython3",
   "version": "3.8.18"
  }
 },
 "nbformat": 4,
 "nbformat_minor": 5
}
