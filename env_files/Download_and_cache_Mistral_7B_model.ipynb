{
 "cells": [
  {
   "cell_type": "markdown",
   "id": "655441ca-4e52-4556-8dc3-6dad95d75fd3",
   "metadata": {},
   "source": [
    "# Download and Cache Mistral 7B model"
   ]
  },
  {
   "cell_type": "code",
   "execution_count": null,
   "id": "7a8acc44-0ffd-43ef-b21d-051a02deacf6",
   "metadata": {},
   "outputs": [],
   "source": [
    "import subprocess\n",
    "import sys\n",
    "import importlib\n",
    "from transformers import AutoModelForCausalLM, AutoTokenizer\n",
    "import torch\n",
    "# Code to check if transformers is 4.36.0. This is required to run Mistral\n",
    "\n",
    "# Function to install a specific package version using pip\n",
    "def install_package(name, version):\n",
    "    subprocess.check_call([sys.executable, \"-m\", \"pip\", \"install\", f\"{name}=={version}\"])\n",
    "\n",
    "# Import transformers and check version\n",
    "import transformers\n",
    "if transformers.__version__ != '4.36.0':\n",
    "    print(f\"Version mismatch. Found {transformers.__version__}, required 4.36.0. Updating...\")\n",
    "    install_package('transformers', '4.36.0')\n",
    "    \n",
    "    # Reimport transformers\n",
    "    importlib.reload(transformers)\n",
    "\n",
    "print(f\"Transformers version: {transformers.__version__}\")"
   ]
  },
  {
   "cell_type": "markdown",
   "id": "37433d0f-d66c-42ad-a972-29d827054224",
   "metadata": {},
   "source": [
    "## Restart kernel to ensure transformimport transformersers 4.36 is loaded"
   ]
  },
  {
   "cell_type": "code",
   "execution_count": null,
   "id": "1f43d3a2-0e00-4a3e-9531-3d913824ff06",
   "metadata": {},
   "outputs": [],
   "source": [
    "import transformers\n",
    "from transformers import AutoModelForCausalLM, AutoTokenizer\n",
    "from transformers import AutoTokenizer, AutoModelForCausalLM, BitsAndBytesConfig\n",
    "import torch\n",
    "print(f\"Transformers version: {transformers.__version__}\")"
   ]
  },
  {
   "cell_type": "code",
   "execution_count": null,
   "id": "650b48cd-6f17-4ccc-84c7-c3f7e02d8f44",
   "metadata": {},
   "outputs": [],
   "source": [
    "model_cache_dir='/run/determined/workdir/shared_fs/cache/model_cache/mistral_7b_model_tokenizer'\n",
    "tokenizer_cache_dir='/run/determined/workdir/shared_fs/cache/model_cache/mistral_7b_model_tokenizer'"
   ]
  },
  {
   "cell_type": "code",
   "execution_count": null,
   "id": "53c46893-70a9-4883-a82b-3b1590bfedb3",
   "metadata": {},
   "outputs": [],
   "source": [
    "model_id = \"mistralai/Mistral-7B-Instruct-v0.1\"\n",
    "tokenizer = AutoTokenizer.from_pretrained(model_id,cache_dir=tokenizer_cache_dir)\n",
    "model = AutoModelForCausalLM.from_pretrained(model_id,cache_dir=model_cache_dir)\n",
    "\n"
   ]
  },
  {
   "cell_type": "code",
   "execution_count": null,
   "id": "e936b3b3-6b86-4465-861f-e872738c4f42",
   "metadata": {},
   "outputs": [],
   "source": [
    "model.save_pretrained('/run/determined/workdir/shared_fs/cache/model/mistral_7b_model_tokenizer')\n",
    "tokenizer.save_pretrained('/run/determined/workdir/shared_fs/cache/model/mistral_7b_model_tokenizer')"
   ]
  },
  {
   "cell_type": "markdown",
   "id": "d5532438-d09e-43cf-a717-9da2d41a0c73",
   "metadata": {},
   "source": [
    "# Check if Model successfully downloaded by loading the model from our local directory"
   ]
  },
  {
   "cell_type": "code",
   "execution_count": null,
   "id": "e0998282-503a-4a1f-96df-414a3b4798e6",
   "metadata": {},
   "outputs": [],
   "source": [
    "tokenizer = AutoTokenizer.from_pretrained('/run/determined/workdir/shared_fs/cache/model/mistral_7b_model_tokenizer',cache_dir=tokenizer_cache_dir)\n",
    "\n",
    "model = AutoModelForCausalLM.from_pretrained('/run/determined/workdir/shared_fs/cache/model/mistral_7b_model_tokenizer',\n",
    "                                             cache_dir=model_cache_dir,\n",
    "                                            torch_dtype=torch.bfloat16,\n",
    "                                            device_map = \"auto\",\n",
    ")"
   ]
  }
 ],
 "metadata": {
  "kernelspec": {
   "display_name": "Python 3 (ipykernel)",
   "language": "python",
   "name": "python3"
  },
  "language_info": {
   "codemirror_mode": {
    "name": "ipython",
    "version": 3
   },
   "file_extension": ".py",
   "mimetype": "text/x-python",
   "name": "python",
   "nbconvert_exporter": "python",
   "pygments_lexer": "ipython3",
   "version": "3.8.18"
  }
 },
 "nbformat": 4,
 "nbformat_minor": 5
}
