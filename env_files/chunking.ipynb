{
 "cells": [
  {
   "cell_type": "markdown",
   "id": "04f8c659-8f96-4d64-9e08-64b4cb849647",
   "metadata": {},
   "source": [
    "# Chunking to support multi-turn chat"
   ]
  },
  {
   "cell_type": "code",
   "execution_count": 1,
   "id": "4e78fcdb-313a-44a8-abf6-4380cc048992",
   "metadata": {},
   "outputs": [],
   "source": [
    "import chromadb\n",
    "import pandas as pd\n",
    "from chromadb.utils import embedding_functions\n",
    "from langchain.text_splitter import RecursiveCharacterTextSplitter\n",
    "import argparse\n",
    "\n",
    "from chromadb.utils import embedding_functions\n",
    "\n",
    "from chromadb.api.types import (\n",
    "    Document,\n",
    "    Documents,\n",
    "    Embedding,\n",
    "    Image,\n",
    "    Images,\n",
    "    EmbeddingFunction,\n",
    "    Embeddings,\n",
    "    is_image,\n",
    "    is_document,\n",
    ")\n",
    "from tqdm import tqdm"
   ]
  },
  {
   "cell_type": "code",
   "execution_count": 2,
   "id": "cd95235a-1baf-4059-876c-8436ff307f9b",
   "metadata": {},
   "outputs": [],
   "source": [
    "# !pip install langchain"
   ]
  },
  {
   "cell_type": "code",
   "execution_count": 3,
   "id": "ff902e57-3be4-40d8-bba4-2cd5e62e7191",
   "metadata": {},
   "outputs": [],
   "source": [
    "data_path = 'hpe_press_releases.csv'\n",
    "df = pd.read_csv(data_path)"
   ]
  },
  {
   "cell_type": "code",
   "execution_count": 4,
   "id": "524b5a7c-14aa-48d8-9f7c-8232e1c9bb8d",
   "metadata": {},
   "outputs": [
    {
     "data": {
      "text/plain": [
       "'IN THIS ARTICLE\\n\\nHPE and the UAE Cyber Security Council will cooperate to enhance cyber skills training in schools and universities\\nThe initiative will encourage young Emiratis to study technology at university and help them to acquire skills for a career in the technology industry\\n\\n\\nDubai, United Arab Emirates – Jan. 20, 2022 – Hewlett Packard Enterprise (NYSE: HPE) today announced that it has signed a Memorandum of Understanding (MOU) with the UAE Cyber Security Council to enhance cyber skills training in schools and prepare Emirati youth for careers in the technology industry. HPE and the Cyber Security Council will launch various initiatives nationwide and expect to work with more than 500 students a year.\\n\\r\\n The MoU was signed by Mohammed Hamad Al-Kuwaiti, Head of Cyber Security for the Government of the UAE, and Ahmad Alkhallafi, managing director, UAE, Hewlett Packard Enterprise, at Intersec, the largest security exhibition in the Middle East region, currently underway in Dubai.\\n\\nAn extension to HPE’s Emirization program launched in 2019, the partnership with the Cyber Security Council will support the Government’s vision to enhance the skills of young Emiratis and encourage them to study the most sought-after technology areas at\\xa0university. The HPE youth acceleration initiative will include workshops for schoolchildren, orientation days at HPE sites, careers advice, university lectures and an internship program, as well as an early careers program for graduates.\\n\\r\\n “Cooperation with leading global technology companies is crucial to achieve the goal of putting the UAE at the forefront of global technology innovation,” said Al-Kuwaiti. “This partnership with Hewlett Packard Enterprise is an important step in developing a world-leading technology workforce for the future.”\\n\\r\\n “I am delighted to partner with the UAE Cyber Security Council to contribute to the Government’s vision to accelerate youth cyber skills and encourage the pursuit of careers in the thriving technology sector,” said Alkhallafi. “Advancing the way people live and work is one of HPE’s core values and I am proud that our UAE organization is playing such a leading role in contributing to our local community. I look forward to welcoming young Emiratis through our doors and I hope that many will become HPE team members one day.”\\n\\r\\n The partnership with the Cyber Security Council has three separate elements that support schoolchildren, university students, and graduates. HPE will partner with local primary and secondary schools to provide workshops in school and at HPE premises, include the HPE Digital Life Garage in Dubai – the company’s regional innovation hub. The workshops will provide insights into the IT industry, different roles and a day in the life of a technologist, as well as helping school pupils with university and careers advice.\\n\\nHPE is also extending its internship program for university students, offering 6 month work placements that enable students to experience the corporate environment, IT industry and different roles within the business. Interns divide their time between work and study, gaining real world experience as well as job specific training. The program is also supported by a series of guest lectures by HPE executives on technology topics including AI, high performance computing, intelligent edge and cloud.\\n\\r\\nFor graduates, HPE’s early careers program unlocks their potential and enables them to acquire the foundational skills needed for a successful career in the IT industry. The two-year program includes exposure to the whole breadth of HPE’s business, including technology solutions, sales and marketing, and support functions.\\n\\nAbout Hewlett Packard Enterprise\\nHewlett Packard Enterprise (NYSE: HPE) is the global edge-to-cloud company that helps organizations accelerate outcomes by unlocking value from all of their data, everywhere. Built on decades of reimagining the future and innovating to advance the way people live and work, HPE delivers unique, open and intelligent technology solutions as a service.\\u202f With offerings spanning Cloud Services, Compute, High Performance Computing & AI, Intelligent Edge, Software, and Storage, HPE provides a consistent experience across all clouds and edges, helping customers\\xa0develop\\xa0new business models, engage in new ways, and increase operational performance. For more information, visit:\\xa0www.hpe.com\\n\\r\\n Editorial Contact:\\nAlastair McCormick\\nalastair.mccormick@hpe.com\\xa0\\xa0\\n\\nRELATED NEWS\\n'"
      ]
     },
     "execution_count": 4,
     "metadata": {},
     "output_type": "execute_result"
    }
   ],
   "source": [
    "df['Content'].iloc[0]"
   ]
  },
  {
   "cell_type": "code",
   "execution_count": 5,
   "id": "07d17cb4-c484-4190-a636-bf70c1779245",
   "metadata": {},
   "outputs": [],
   "source": [
    "text_splitter = RecursiveCharacterTextSplitter(chunk_size=1000, chunk_overlap=10)"
   ]
  },
  {
   "cell_type": "code",
   "execution_count": 6,
   "id": "f5208243-838b-4b97-b520-12dd38b922b5",
   "metadata": {},
   "outputs": [],
   "source": [
    "# l = text_splitter.split_text(df['Content'].iloc[0])\n",
    "# [(i,o) for i,o in zip(l,[df['Content'].iloc[0]])][0]\n",
    "def chunk_text(text_splitter,text):\n",
    "    return text_splitter.split_text(text)\n",
    "\n",
    "# chunk_text(text_splitter,df['Content'].iloc[10])"
   ]
  },
  {
   "cell_type": "code",
   "execution_count": 7,
   "id": "40c84130-92db-458a-87f9-26d5d406dbce",
   "metadata": {},
   "outputs": [
    {
     "name": "stdout",
     "output_type": "stream",
     "text": [
      "1751 1751\n"
     ]
    }
   ],
   "source": [
    "# data_path = data_path\n",
    "df = pd.read_csv(data_path)\n",
    "LEN=df.shape[0]\n",
    "chunks = []\n",
    "inds = []\n",
    "for i in range(LEN):\n",
    "    ch = chunk_text(text_splitter,df.iloc[i]['Content'])\n",
    "    chunks+=ch\n",
    "    inds+=[i]*len(ch)\n",
    "\n",
    "print(len(chunks),len(inds))"
   ]
  },
  {
   "cell_type": "code",
   "execution_count": 87,
   "id": "08ead98c-eb9e-4e49-86c5-caa3ae75d3e0",
   "metadata": {},
   "outputs": [
    {
     "name": "stdout",
     "output_type": "stream",
     "text": [
      "creating/resetting db at /nvmefs1/test_user/cache/rag_db2/...\n",
      "Done!\n",
      "Loading /nvmefs1/test_user/cache/vector_model/e5-base-v2...\n",
      "Done!\n",
      "Number of docs:  149\n"
     ]
    },
    {
     "name": "stderr",
     "output_type": "stream",
     "text": [
      "100%|██████████| 149/149 [00:00<00:00, 4909.86it/s]\n"
     ]
    },
    {
     "name": "stdout",
     "output_type": "stream",
     "text": [
      "Number of chunks:  421\n"
     ]
    },
    {
     "name": "stderr",
     "output_type": "stream",
     "text": [
      "100%|██████████| 421/421 [00:18<00:00, 22.95it/s]\n"
     ]
    }
   ],
   "source": [
    "settings = chromadb.get_settings()\n",
    "settings.allow_reset = True\n",
    "path_to_db='/nvmefs1/test_user/cache/rag_db2/'\n",
    "# model_path='/nvmefs1/andrew.mendez/chromadb_cache/all-MiniLM-L6-v2'\n",
    "model_path='/nvmefs1/test_user/cache/vector_model/e5-base-v2'\n",
    "print(f\"creating/resetting db at {path_to_db}...\")\n",
    "db = chromadb.PersistentClient(path=path_to_db, settings=settings)\n",
    "print(\"Done!\")\n",
    "db.reset()\n",
    "# model_path=args.emb_model_path\n",
    "print(\"Loading {}...\".format(model_path))\n",
    "emb_fn = embedding_functions.SentenceTransformerEmbeddingFunction(\n",
    "    model_name=model_path, device=\"cuda\"\n",
    ")\n",
    "print(\"Done!\")\n",
    "#model_path='/mnt/efs/shared_fs/determined/all-MiniLM-L6-v2/'\n",
    "#emb_fn.models['all-MiniLM-L6-v2'].save(model_path)\n",
    "#print(\"Model saved at:{} \".format(model_path))\n",
    "collection = db.create_collection(name=\"HPE_press_releases\", embedding_function=emb_fn)\n",
    "\n",
    "text_splitter = RecursiveCharacterTextSplitter(chunk_size=8000, chunk_overlap=100)\n",
    "def chunk_text(text_splitter,text):\n",
    "    return text_splitter.split_text(text)\n",
    "\n",
    "# data_path = csv_path\n",
    "df = pd.read_csv(data_path)\n",
    "LEN=df.shape[0]\n",
    "chunks = []\n",
    "inds = []\n",
    "print(\"Number of docs: \",LEN)\n",
    "for i in tqdm(range(LEN)):\n",
    "    ch = chunk_text(text_splitter,df.iloc[i]['Content'])\n",
    "    chunks+=ch\n",
    "    inds+=[i]*len(ch)\n",
    "print(\"Number of chunks: \",len(chunks))\n",
    "\n",
    "for i in tqdm(range(len(chunks))):\n",
    "    collection.add(\n",
    "        documents=[chunks[i]],\n",
    "        metadatas=[{'Title':df.iloc[inds[i]]['Title'],'Content':df.iloc[inds[i]]['Content'],'Date':df.iloc[inds[i]]['Date']}],\n",
    "        ids=[f'id{str(i)}']\n",
    "    )\n",
    "\n"
   ]
  },
  {
   "cell_type": "code",
   "execution_count": 152,
   "id": "e4306cd7-7a94-426a-a7f0-fcfa4e3a9799",
   "metadata": {},
   "outputs": [],
   "source": [
    "# results"
   ]
  },
  {
   "cell_type": "code",
   "execution_count": 159,
   "id": "172843b5-9fa0-4583-bede-bd666d8a1a5e",
   "metadata": {},
   "outputs": [
    {
     "name": "stdout",
     "output_type": "stream",
     "text": [
      "query:  How long has Antonio Neri been at HPE? results:  [['HOUSTON, Texas – October 4, 2022 – Hewlett Packard Enterprise (NYSE: HPE) will host its Securities Analyst Meeting on October 19, 2022. Join the live webcast to hear Antonio Neri, president and CEO, and Tarek Robbiati, executive vice president and CFO, discuss HPE’s vision, strategy, and financial outlook.\\xa0\\n\\nThe webcast will begin Wednesday, October 19 at 2:30 p.m. CT (3:30 p.m. ET) and will be available at www.hpe.com/investor/SAM2022. Following the executives’ presentations, HPE will hold a live Q&A session.\\n\\r\\nA replay of the webcast will be available at the same website shortly after the call and will remain available for approximately one year. For additional information, see investors.hpe.com.\\xa0\\n\\nAbout Hewlett Packard Enterprise\\nHewlett Packard Enterprise (NYSE: HPE) is the global edge-to-cloud company that helps organizations accelerate outcomes by unlocking value from all of their data, everywhere. Built on decades of reimagining the future and innovating to advance the way people live and work, HPE delivers unique, open and intelligent technology solutions as a service. With offerings spanning Cloud Services, Compute, High Performance Computing & AI, Intelligent Edge, Software, and Storage, HPE provides a consistent experience across all clouds and edges, helping customers develop new business models, engage in new ways, and increase operational performance. For more information, visit: www.hpe.com.\\n\\r\\nEditorial contact\\nLaura Keller\\nLaura.Keller@hpe.com\\n\\r\\nInvestor contact\\nJeff Kvaal\\ninvestor.relations@hpe.com\\n\\nRELATED NEWS', \"HPE veteran of 28+ years brings proven leadership to accelerate Supercomputing and AI business\\nHOUSTON, Texas – January 23, 2024\\xa0–\\xa0Hewlett Packard Enterprise\\xa0(NYSE: HPE) today announced an expanded leadership role effective February 1, 2024 for Neil MacDonald, who has been appointed to lead the company’s HPC & AI business segment in addition to leading its Compute business. MacDonald will continue to report to president and chief executive officer, Antonio Neri and each business segment will continue to report its financial results independently. In his new role as the executive vice president and general manager of both Compute and HPC & AI, MacDonald will lead the team in accelerating HPE’s AI strategy by scaling cloud and software solutions with strong integration of HPE GreenLake. Additionally, the company announced that Hewlett Packard Labs will now move to reporting to Fidelma Russo, HPE’s Chief Technology Officer.\\xa0\\n“The HPC and AI business is critical to our ongoing strategy. Neil’s engineering background and expertise in silicon and AI, combined with his decades of proven leadership experience and passion for customer-driven innovation make him uniquely suited to lead this team”\\n“The HPC and AI business is critical to our ongoing strategy. Neil’s engineering background and expertise in silicon and AI, combined with his decades of proven leadership experience and passion for customer-driven innovation make him uniquely suited to lead this team,” said Neri. “Neil’s technical acumen, vision and passion for advancing HPE’s unique IP in supercomputing, AI infrastructure technologies, and our AI software platform will strengthen the role we can play in our customers’ most critical transformations.”\\xa0\\u2028\\u2028Notably, under MacDonald’s leadership, the Compute business recently expanded its strategic collaboration with NVIDIA to enhance HPE’s Compute portfolio and build a turnkey enterprise computing solution for GenAI to target a growing market.\\u2028\\u2028“AI and supercomputing are ground-breaking technologies that will soon transform every business and fuel next generation innovations that will fundamentally change the world,” said MacDonald. “I’m deeply committed to continue fostering the mission of our HPC & AI business and lead this incredibly talented team that’s dedicated to solving our customer’s most complex problems.”\\u2028\\u2028Prior to joining our predecessor, Hewlett-Packard Company, MacDonald was Commercial Manager at Edinburgh Parallel Computing Centre where he helped bring the transformational benefits of massively parallel supercomputing to industrial and commercial customers. He holds a bachelor's degree in Artificial Intelligence with Computer Science and a Ph.D. in Computer Science from the University of Edinburgh, as well as an MBA from San Jose State University.\\xa0\\xa0\\nAbout Hewlett Packard Enterprise\"]]\n"
     ]
    }
   ],
   "source": [
    "query = \"How long has Antonio Neri been at HPE?\"\n",
    "# query = \"Who is Antonio Neri?\"\n",
    "# query = \"What is HPE Greenlake for Large Language Models?\"\n",
    "\n",
    "results = collection.query(query_texts=[query], n_results=2)\n",
    "print(\"query: \",query, \"results: \",results['documents'])"
   ]
  },
  {
   "cell_type": "code",
   "execution_count": 160,
   "id": "605dceaa-36b3-4298-8e58-1eaa1370d20a",
   "metadata": {},
   "outputs": [
    {
     "data": {
      "text/plain": [
       "{'ids': [['id195', 'id419']],\n",
       " 'distances': [[0.2937813699245453, 0.3080323083482148]],\n",
       " 'metadatas': [[{'Content': 'HOUSTON, Texas – October 4, 2022 – Hewlett Packard Enterprise (NYSE: HPE) will host its Securities Analyst Meeting on October 19, 2022. Join the live webcast to hear Antonio Neri, president and CEO, and Tarek Robbiati, executive vice president and CFO, discuss HPE’s vision, strategy, and financial outlook.\\xa0\\n\\nThe webcast will begin Wednesday, October 19 at 2:30 p.m. CT (3:30 p.m. ET) and will be available at www.hpe.com/investor/SAM2022. Following the executives’ presentations, HPE will hold a live Q&A session.\\n\\r\\nA replay of the webcast will be available at the same website shortly after the call and will remain available for approximately one year. For additional information, see investors.hpe.com.\\xa0\\n\\nAbout Hewlett Packard Enterprise\\nHewlett Packard Enterprise (NYSE: HPE) is the global edge-to-cloud company that helps organizations accelerate outcomes by unlocking value from all of their data, everywhere. Built on decades of reimagining the future and innovating to advance the way people live and work, HPE delivers unique, open and intelligent technology solutions as a service. With offerings spanning Cloud Services, Compute, High Performance Computing & AI, Intelligent Edge, Software, and Storage, HPE provides a consistent experience across all clouds and edges, helping customers develop new business models, engage in new ways, and increase operational performance. For more information, visit: www.hpe.com.\\n\\r\\nEditorial contact\\nLaura Keller\\nLaura.Keller@hpe.com\\n\\r\\nInvestor contact\\nJeff Kvaal\\ninvestor.relations@hpe.com\\n\\nRELATED NEWS\\n',\n",
       "    'Date': '2022-10-04',\n",
       "    'Title': 'Hewlett Packard Enterprise to webcast HPE Securities Analyst Meeting 2022'},\n",
       "   {'Content': 'HPE veteran of 28+ years brings proven leadership to accelerate Supercomputing and AI business\\nHOUSTON, Texas – January 23, 2024\\xa0–\\xa0Hewlett Packard Enterprise\\xa0(NYSE: HPE) today announced an expanded leadership role effective February 1, 2024 for Neil MacDonald, who has been appointed to lead the company’s HPC & AI business segment in addition to leading its Compute business. MacDonald will continue to report to president and chief executive officer, Antonio Neri and each business segment will continue to report its financial results independently. In his new role as the executive vice president and general manager of both Compute and HPC & AI, MacDonald will lead the team in accelerating HPE’s AI strategy by scaling cloud and software solutions with strong integration of HPE GreenLake. Additionally, the company announced that Hewlett Packard Labs will now move to reporting to Fidelma Russo, HPE’s Chief Technology Officer.\\xa0\\n“The HPC and AI business is critical to our ongoing strategy. Neil’s engineering background and expertise in silicon and AI, combined with his decades of proven leadership experience and passion for customer-driven innovation make him uniquely suited to lead this team”\\n“The HPC and AI business is critical to our ongoing strategy. Neil’s engineering background and expertise in silicon and AI, combined with his decades of proven leadership experience and passion for customer-driven innovation make him uniquely suited to lead this team,” said Neri. “Neil’s technical acumen, vision and passion for advancing HPE’s unique IP in supercomputing, AI infrastructure technologies, and our AI software platform will strengthen the role we can play in our customers’ most critical transformations.”\\xa0\\u2028\\u2028Notably, under MacDonald’s leadership, the Compute business recently expanded its strategic collaboration with NVIDIA to enhance HPE’s Compute portfolio and build a turnkey enterprise computing solution for GenAI to target a growing market.\\u2028\\u2028“AI and supercomputing are ground-breaking technologies that will soon transform every business and fuel next generation innovations that will fundamentally change the world,” said MacDonald. “I’m deeply committed to continue fostering the mission of our HPC & AI business and lead this incredibly talented team that’s dedicated to solving our customer’s most complex problems.”\\u2028\\u2028Prior to joining our predecessor, Hewlett-Packard Company, MacDonald was Commercial Manager at Edinburgh Parallel Computing Centre where he helped bring the transformational benefits of massively parallel supercomputing to industrial and commercial customers. He holds a bachelor\\'s degree in Artificial Intelligence with Computer Science and a Ph.D. in Computer Science from the University of Edinburgh, as well as an MBA from San Jose State University.\\xa0\\xa0\\nAbout Hewlett Packard Enterprise\\nHewlett Packard Enterprise (NYSE: HPE) is the global edge-to-cloud company that helps organizations accelerate outcomes by unlocking value from all of their data, everywhere. Built on decades of reimagining the future and innovating to advance the way people live and work, HPE delivers unique, open and intelligent technology solutions as a service.\\xa0 With offerings spanning Cloud Services, Compute, High Performance Computing & AI, Intelligent Edge, Software, and Storage, HPE provides a consistent experience across all clouds and edges, helping customers develop new business models, engage in new ways, and increase operational performance. For more information, visit:\\xa0www.hpe.com.\\u2028\\u2028Forward-looking Statements\\u2028\\u2028This press release contains forward-looking statements within the meaning of the safe harbor provisions of the Private Securities Litigation Reform Act of 1995. Such statements involve risks, uncertainties, and assumptions. If the risks or uncertainties ever materialize or the assumptions prove incorrect, the results of Hewlett Packard Enterprise Company and its consolidated subsidiaries (Hewlett Packard Enterprise) may differ materially from those expressed or implied by such forward-looking statements and assumptions. The words “believe,” “expect,” “anticipate,” “intend,” “will,” \"may,\" and similar expressions are intended to identify such forward-looking statements. All statements other than statements of historical fact are statements that could be deemed forward-looking statements, including but not limited to any projections of executive performance, financial performance, plans, strategies and objectives of management for future operations or performance. Risks, uncertainties and assumptions include those that are described in HPE’s Annual Report on Form 10-K for the fiscal year ended October 31, 2023, Quarterly Reports on Form 10-Q, Current Reports on Form 8-K, and that are otherwise described or updated from time to time in Hewlett Packard Enterprise’s Securities and Exchange Commission reports. Hewlett Packard Enterprise assumes no obligation and does not intend to update these forward-looking statements, except as required by applicable law.\\u2028\\u2028Media Contact:\\u2028John Choi\\u2028John.choi@hpe.com',\n",
       "    'Date': '2024-01-23',\n",
       "    'Title': 'Hewlett Packard Enterprise announces Neil MacDonald as leader of HPC & AI business segment\\n'}]],\n",
       " 'embeddings': None,\n",
       " 'documents': [['HOUSTON, Texas – October 4, 2022 – Hewlett Packard Enterprise (NYSE: HPE) will host its Securities Analyst Meeting on October 19, 2022. Join the live webcast to hear Antonio Neri, president and CEO, and Tarek Robbiati, executive vice president and CFO, discuss HPE’s vision, strategy, and financial outlook.\\xa0\\n\\nThe webcast will begin Wednesday, October 19 at 2:30 p.m. CT (3:30 p.m. ET) and will be available at www.hpe.com/investor/SAM2022. Following the executives’ presentations, HPE will hold a live Q&A session.\\n\\r\\nA replay of the webcast will be available at the same website shortly after the call and will remain available for approximately one year. For additional information, see investors.hpe.com.\\xa0\\n\\nAbout Hewlett Packard Enterprise\\nHewlett Packard Enterprise (NYSE: HPE) is the global edge-to-cloud company that helps organizations accelerate outcomes by unlocking value from all of their data, everywhere. Built on decades of reimagining the future and innovating to advance the way people live and work, HPE delivers unique, open and intelligent technology solutions as a service. With offerings spanning Cloud Services, Compute, High Performance Computing & AI, Intelligent Edge, Software, and Storage, HPE provides a consistent experience across all clouds and edges, helping customers develop new business models, engage in new ways, and increase operational performance. For more information, visit: www.hpe.com.\\n\\r\\nEditorial contact\\nLaura Keller\\nLaura.Keller@hpe.com\\n\\r\\nInvestor contact\\nJeff Kvaal\\ninvestor.relations@hpe.com\\n\\nRELATED NEWS',\n",
       "   \"HPE veteran of 28+ years brings proven leadership to accelerate Supercomputing and AI business\\nHOUSTON, Texas – January 23, 2024\\xa0–\\xa0Hewlett Packard Enterprise\\xa0(NYSE: HPE) today announced an expanded leadership role effective February 1, 2024 for Neil MacDonald, who has been appointed to lead the company’s HPC & AI business segment in addition to leading its Compute business. MacDonald will continue to report to president and chief executive officer, Antonio Neri and each business segment will continue to report its financial results independently. In his new role as the executive vice president and general manager of both Compute and HPC & AI, MacDonald will lead the team in accelerating HPE’s AI strategy by scaling cloud and software solutions with strong integration of HPE GreenLake. Additionally, the company announced that Hewlett Packard Labs will now move to reporting to Fidelma Russo, HPE’s Chief Technology Officer.\\xa0\\n“The HPC and AI business is critical to our ongoing strategy. Neil’s engineering background and expertise in silicon and AI, combined with his decades of proven leadership experience and passion for customer-driven innovation make him uniquely suited to lead this team”\\n“The HPC and AI business is critical to our ongoing strategy. Neil’s engineering background and expertise in silicon and AI, combined with his decades of proven leadership experience and passion for customer-driven innovation make him uniquely suited to lead this team,” said Neri. “Neil’s technical acumen, vision and passion for advancing HPE’s unique IP in supercomputing, AI infrastructure technologies, and our AI software platform will strengthen the role we can play in our customers’ most critical transformations.”\\xa0\\u2028\\u2028Notably, under MacDonald’s leadership, the Compute business recently expanded its strategic collaboration with NVIDIA to enhance HPE’s Compute portfolio and build a turnkey enterprise computing solution for GenAI to target a growing market.\\u2028\\u2028“AI and supercomputing are ground-breaking technologies that will soon transform every business and fuel next generation innovations that will fundamentally change the world,” said MacDonald. “I’m deeply committed to continue fostering the mission of our HPC & AI business and lead this incredibly talented team that’s dedicated to solving our customer’s most complex problems.”\\u2028\\u2028Prior to joining our predecessor, Hewlett-Packard Company, MacDonald was Commercial Manager at Edinburgh Parallel Computing Centre where he helped bring the transformational benefits of massively parallel supercomputing to industrial and commercial customers. He holds a bachelor's degree in Artificial Intelligence with Computer Science and a Ph.D. in Computer Science from the University of Edinburgh, as well as an MBA from San Jose State University.\\xa0\\xa0\\nAbout Hewlett Packard Enterprise\"]],\n",
       " 'uris': None,\n",
       " 'data': None}"
      ]
     },
     "execution_count": 160,
     "metadata": {},
     "output_type": "execute_result"
    }
   ],
   "source": [
    "results"
   ]
  },
  {
   "cell_type": "code",
   "execution_count": 158,
   "id": "68253272-169f-463d-8a74-0a959d41d77a",
   "metadata": {},
   "outputs": [
    {
     "name": "stdout",
     "output_type": "stream",
     "text": [
      "len(results2):  2331\n",
      "results2:  Learning more about Bobby's career path, his advice for others, and what he does in his down time\n",
      "Leading the charge to ensure HPE’s digital and physical assets are always protected is his primary job. Being passionate about football and a stickler for designer shoes is part of his alter-ego.\n",
      "\n",
      "We had a chance to catch up with Bobby and get to know him a little better.  What is the best thing about working in IT security?\n",
      "\n",
      "Information security, or cybersecurity, is a really cool field. It’s an industry that's been around for more than 30 years, and it's still at the beginning. It is fast-paced and continually evolving, so there is always more that we need to understand.  This is also why companies continue to invest heavily in IT security.\n",
      "\n",
      "What advice would you have for someone who wants to get into IT security?\n",
      "\n",
      "I would say understand how truly broad a topic it is and don't be intimidated by the technical aspects of it.  When you think of cybersecurity, you shouldn't immediately think tech. There are different functions and so many different roles that exist in cybersecurity, and not all of them are deeply technical.\n",
      "\n",
      "What excites you about working in this field, specifically at HPE?\n",
      "\n",
      "I believe that we are truly transforming the way people consume and view technology. Being at HPE, we are helping an entire industry transform. Very rarely do you get an opportunity to be part of something this big, and I'm thankful to be here.\n",
      "\n",
      "What drives you as a chief security officer?\n",
      "\n",
      "The opportunity to protect our data, to protect our assets, and essentially, to protect our business, is what drives me. People tend to think that security is synonymous with defense. I love that theory because if you are a sports fan, you already know that defense wins the championships.\n",
      "\n",
      "You’re a self-proclaimed designer shoe aficionado. Tell us more.\n",
      "\n",
      "I love fashion. I think it stems from my parents.  They were into fashion and made sure we always looked our best at church, the first day of school, and other big events. So, it stuck with me, especially shoes.  I think the most significant part of anyone's fashion is their shoes, and I can tell a lot about an individual based on their shoe game.\n",
      "\n",
      "I knew I was supposed to be at HPE the first time I met Antonio Neri because his shoe game is flawless.\n",
      "=========prompt=============: \n",
      "[INST]`Learning more about Bobby's career path, his advice for others, and what he does in his down time\n",
      "Leading the charge to ensure HPE’s digital and physical assets are always protected is his primary job. Being passionate about football and a stickler for designer shoes is part of his alter-ego.\n",
      "\n",
      "We had a chance to catch up with Bobby and get to know him a little better.  What is the best thing about working in IT security?\n",
      "\n",
      "Information security, or cybersecurity, is a really cool field. It’s an industry that's been around for more than 30 years, and it's still at the beginning. It is fast-paced and continually evolving, so there is always more that we need to understand.  This is also why companies continue to invest heavily in IT security.\n",
      "\n",
      "What advice would you have for someone who wants to get into IT security?\n",
      "\n",
      "I would say understand how truly broad a topic it is and don't be intimidated by the technical aspects of it.  When you think of cybersecurity, you shouldn't immediately think tech. There are different functions and so many different roles that exist in cybersecurity, and not all of them are deeply technical.\n",
      "\n",
      "What excites you about working in this field, specifically at HPE?\n",
      "\n",
      "I believe that we are truly transforming the way people consume and view technology. Being at HPE, we are helping an entire industry transform. Very rarely do you get an opportunity to be part of something this big, and I'm thankful to be here.\n",
      "\n",
      "What drives you as a chief security officer?\n",
      "\n",
      "The opportunity to protect our data, to protect our assets, and essentially, to protect our business, is what drives me. People tend to think that security is synonymous with defense. I love that theory because if you are a sports fan, you already know that defense wins the championships.\n",
      "\n",
      "You’re a self-proclaimed designer shoe aficionado. Tell us more.\n",
      "\n",
      "I love fashion. I think it stems from my parents.  They were into fashion and made sure we always looked our best at church, the first day of school, and other big events. So, it stuck with me, especially shoes.  I think the most significant part of anyone's fashion is their shoes, and I can tell a lot about an individual based on their shoe game.\n",
      "\n",
      "I knew I was supposed to be at HPE the first time I met Antonio Neri because his shoe game is flawless.`. Using the above information, answer the following question factually: Who is Antonio Neri?. Answer concisely at most in three sentences. Respond in a natural way, like you are having a conversation with a friend.[/INST]\n",
      "=========end_of_prompt=============\n"
     ]
    }
   ],
   "source": [
    "results2 = \"\\n\".join([results['documents'][0][0]])\n",
    "results2 = results2[:4500]\n",
    "print(\"len(results2): \",len(results2))\n",
    "print(\"results2: \",results2)\n",
    "prompt = f\"[INST]`{results2}`. Using the above information, answer the following question factually: {query}. Answer concisely at most in three sentences. Respond in a natural way, like you are having a conversation with a friend.[/INST]\"\n",
    "print(\"=========prompt=============: \")\n",
    "print(prompt)\n",
    "print(\"=========end_of_prompt=============\")"
   ]
  },
  {
   "cell_type": "code",
   "execution_count": 145,
   "id": "b1d07dbd-0230-4e5b-b538-38341fbb1e8a",
   "metadata": {},
   "outputs": [],
   "source": [
    "# results['documents']"
   ]
  },
  {
   "cell_type": "code",
   "execution_count": 146,
   "id": "878f1e0f-36d1-45ae-ac11-0039e7a570f6",
   "metadata": {},
   "outputs": [],
   "source": [
    "# results.keys()"
   ]
  },
  {
   "cell_type": "code",
   "execution_count": 147,
   "id": "cfa59b1d-7a89-4da7-935e-35ad85dbf348",
   "metadata": {},
   "outputs": [],
   "source": [
    "# [results['metadatas'][0][i]['Content'] for i in range(2)]"
   ]
  },
  {
   "cell_type": "code",
   "execution_count": 148,
   "id": "fba60cbc-0227-4ee9-93e3-dd20ccd39bd6",
   "metadata": {},
   "outputs": [],
   "source": [
    "# results2 = \"\\n\\n\".join([results['metadatas'][0][0]['Content']])\n",
    "# results2"
   ]
  },
  {
   "cell_type": "code",
   "execution_count": 149,
   "id": "b222632b-90f0-4d33-9fd2-1d420ea8ecd1",
   "metadata": {},
   "outputs": [],
   "source": [
    "# results['documents'][0][:2]"
   ]
  },
  {
   "cell_type": "code",
   "execution_count": 150,
   "id": "075e416e-8d0f-4460-aa95-d604867bf202",
   "metadata": {},
   "outputs": [
    {
     "name": "stdout",
     "output_type": "stream",
     "text": [
      "len(results2):  4500\n",
      "results2:  Learning more about Bobby's career path, his advice for others, and what he does in his down time\n",
      "Leading the charge to ensure HPE’s digital and physical assets are always protected is his primary job. Being passionate about football and a stickler for designer shoes is part of his alter-ego.\n",
      "\n",
      "We had a chance to catch up with Bobby and get to know him a little better.  What is the best thing about working in IT security?\n",
      "\n",
      "Information security, or cybersecurity, is a really cool field. It’s an industry that's been around for more than 30 years, and it's still at the beginning. It is fast-paced and continually evolving, so there is always more that we need to understand.  This is also why companies continue to invest heavily in IT security.\n",
      "\n",
      "What advice would you have for someone who wants to get into IT security?\n",
      "\n",
      "I would say understand how truly broad a topic it is and don't be intimidated by the technical aspects of it.  When you think of cybersecurity, you shouldn't immediately think tech. There are different functions and so many different roles that exist in cybersecurity, and not all of them are deeply technical.\n",
      "\n",
      "What excites you about working in this field, specifically at HPE?\n",
      "\n",
      "I believe that we are truly transforming the way people consume and view technology. Being at HPE, we are helping an entire industry transform. Very rarely do you get an opportunity to be part of something this big, and I'm thankful to be here.\n",
      "\n",
      "What drives you as a chief security officer?\n",
      "\n",
      "The opportunity to protect our data, to protect our assets, and essentially, to protect our business, is what drives me. People tend to think that security is synonymous with defense. I love that theory because if you are a sports fan, you already know that defense wins the championships.\n",
      "\n",
      "You’re a self-proclaimed designer shoe aficionado. Tell us more.\n",
      "\n",
      "I love fashion. I think it stems from my parents.  They were into fashion and made sure we always looked our best at church, the first day of school, and other big events. So, it stuck with me, especially shoes.  I think the most significant part of anyone's fashion is their shoes, and I can tell a lot about an individual based on their shoe game.\n",
      "\n",
      "I knew I was supposed to be at HPE the first time I met Antonio Neri because his shoe game is flawless.\n",
      "HOUSTON, Texas – October 4, 2022 – Hewlett Packard Enterprise (NYSE: HPE) will host its Securities Analyst Meeting on October 19, 2022. Join the live webcast to hear Antonio Neri, president and CEO, and Tarek Robbiati, executive vice president and CFO, discuss HPE’s vision, strategy, and financial outlook. \n",
      "\n",
      "The webcast will begin Wednesday, October 19 at 2:30 p.m. CT (3:30 p.m. ET) and will be available at www.hpe.com/investor/SAM2022. Following the executives’ presentations, HPE will hold a live Q&A session.\n",
      "\n",
      "A replay of the webcast will be available at the same website shortly after the call and will remain available for approximately one year. For additional information, see investors.hpe.com. \n",
      "\n",
      "About Hewlett Packard Enterprise\n",
      "Hewlett Packard Enterprise (NYSE: HPE) is the global edge-to-cloud company that helps organizations accelerate outcomes by unlocking value from all of their data, everywhere. Built on decades of reimagining the future and innovating to advance the way people live and work, HPE delivers unique, open and intelligent technology solutions as a service. With offerings spanning Cloud Services, Compute, High Performance Computing & AI, Intelligent Edge, Software, and Storage, HPE provides a consistent experience across all clouds and edges, helping customers develop new business models, engage in new ways, and increase operational performance. For more information, visit: www.hpe.com.\n",
      "\n",
      "Editorial contact\n",
      "Laura Keller\n",
      "Laura.Keller@hpe.com\n",
      "\n",
      "Investor contact\n",
      "Jeff Kvaal\n",
      "investor.relations@hpe.com\n",
      "\n",
      "RELATED NEWS\n",
      "HPE veteran of 28+ years brings proven leadership to accelerate Supercomputing and AI business\n",
      "HOUSTON, Texas – January 23, 2024 – Hewlett Packard Enterprise (NYSE: HPE) today announced an expanded leadership role effective February 1, 2024 for Neil MacDonald, who has been appointed to lead the company’s HPC & AI business segment in addition to leading its Compute business. MacDonald will continue to report to president and chief executive officer, Antonio Neri and each business segment will continue to report its financial results independently. In his new role as the executive vice president and general \n",
      "=========prompt=============: \n",
      "[INST]`Learning more about Bobby's career path, his advice for others, and what he does in his down time\n",
      "Leading the charge to ensure HPE’s digital and physical assets are always protected is his primary job. Being passionate about football and a stickler for designer shoes is part of his alter-ego.\n",
      "\n",
      "We had a chance to catch up with Bobby and get to know him a little better.  What is the best thing about working in IT security?\n",
      "\n",
      "Information security, or cybersecurity, is a really cool field. It’s an industry that's been around for more than 30 years, and it's still at the beginning. It is fast-paced and continually evolving, so there is always more that we need to understand.  This is also why companies continue to invest heavily in IT security.\n",
      "\n",
      "What advice would you have for someone who wants to get into IT security?\n",
      "\n",
      "I would say understand how truly broad a topic it is and don't be intimidated by the technical aspects of it.  When you think of cybersecurity, you shouldn't immediately think tech. There are different functions and so many different roles that exist in cybersecurity, and not all of them are deeply technical.\n",
      "\n",
      "What excites you about working in this field, specifically at HPE?\n",
      "\n",
      "I believe that we are truly transforming the way people consume and view technology. Being at HPE, we are helping an entire industry transform. Very rarely do you get an opportunity to be part of something this big, and I'm thankful to be here.\n",
      "\n",
      "What drives you as a chief security officer?\n",
      "\n",
      "The opportunity to protect our data, to protect our assets, and essentially, to protect our business, is what drives me. People tend to think that security is synonymous with defense. I love that theory because if you are a sports fan, you already know that defense wins the championships.\n",
      "\n",
      "You’re a self-proclaimed designer shoe aficionado. Tell us more.\n",
      "\n",
      "I love fashion. I think it stems from my parents.  They were into fashion and made sure we always looked our best at church, the first day of school, and other big events. So, it stuck with me, especially shoes.  I think the most significant part of anyone's fashion is their shoes, and I can tell a lot about an individual based on their shoe game.\n",
      "\n",
      "I knew I was supposed to be at HPE the first time I met Antonio Neri because his shoe game is flawless.\n",
      "HOUSTON, Texas – October 4, 2022 – Hewlett Packard Enterprise (NYSE: HPE) will host its Securities Analyst Meeting on October 19, 2022. Join the live webcast to hear Antonio Neri, president and CEO, and Tarek Robbiati, executive vice president and CFO, discuss HPE’s vision, strategy, and financial outlook. \n",
      "\n",
      "The webcast will begin Wednesday, October 19 at 2:30 p.m. CT (3:30 p.m. ET) and will be available at www.hpe.com/investor/SAM2022. Following the executives’ presentations, HPE will hold a live Q&A session.\n",
      "\n",
      "A replay of the webcast will be available at the same website shortly after the call and will remain available for approximately one year. For additional information, see investors.hpe.com. \n",
      "\n",
      "About Hewlett Packard Enterprise\n",
      "Hewlett Packard Enterprise (NYSE: HPE) is the global edge-to-cloud company that helps organizations accelerate outcomes by unlocking value from all of their data, everywhere. Built on decades of reimagining the future and innovating to advance the way people live and work, HPE delivers unique, open and intelligent technology solutions as a service. With offerings spanning Cloud Services, Compute, High Performance Computing & AI, Intelligent Edge, Software, and Storage, HPE provides a consistent experience across all clouds and edges, helping customers develop new business models, engage in new ways, and increase operational performance. For more information, visit: www.hpe.com.\n",
      "\n",
      "Editorial contact\n",
      "Laura Keller\n",
      "Laura.Keller@hpe.com\n",
      "\n",
      "Investor contact\n",
      "Jeff Kvaal\n",
      "investor.relations@hpe.com\n",
      "\n",
      "RELATED NEWS\n",
      "HPE veteran of 28+ years brings proven leadership to accelerate Supercomputing and AI business\n",
      "HOUSTON, Texas – January 23, 2024 – Hewlett Packard Enterprise (NYSE: HPE) today announced an expanded leadership role effective February 1, 2024 for Neil MacDonald, who has been appointed to lead the company’s HPC & AI business segment in addition to leading its Compute business. MacDonald will continue to report to president and chief executive officer, Antonio Neri and each business segment will continue to report its financial results independently. In his new role as the executive vice president and general `. Using the above information, answer the following question factually: Who is Antonio Neri?. Answer concisely at most in three sentences. Respond in a natural way, like you are having a conversation with a friend.[/INST]\n",
      "=========end_of_prompt=============\n"
     ]
    }
   ],
   "source": [
    "# results2 = \"\\n\\n\".join([results['metadatas'][0][0]['Content']])\n",
    "# print(\"8500//3: \",8500//3)\n",
    "results2 = \"\\n\".join([i for i in results['documents'][0][:3]])\n",
    "results2 = results2[:4500]\n",
    "print(\"len(results2): \",len(results2))\n",
    "print(\"results2: \",results2)\n",
    "prompt = f\"[INST]`{results2}`. Using the above information, answer the following question factually: {query}. Answer concisely at most in three sentences. Respond in a natural way, like you are having a conversation with a friend.[/INST]\"\n",
    "print(\"=========prompt=============: \")\n",
    "print(prompt)\n",
    "print(\"=========end_of_prompt=============\")"
   ]
  },
  {
   "cell_type": "code",
   "execution_count": null,
   "id": "d64335ea-b0e2-4c73-8d83-95534c9738b2",
   "metadata": {},
   "outputs": [],
   "source": [
    "!ls /nvmefs1/test_user/cache/vector_model/e5-base-v2"
   ]
  },
  {
   "cell_type": "code",
   "execution_count": 125,
   "id": "0874cc0f-92b5-4907-8dd4-c5f47cfcbc74",
   "metadata": {},
   "outputs": [
    {
     "data": {
      "text/plain": [
       "['Reimagining your technology strategy for sustainable, responsible, and innovative AI.\\xa0In a session co-led by Crusoe, leaders with Crusoe, Rescale, and Writer joined HPE to discuss how AI is currently transforming productivity and automating workflows across industries. As technology leaders, the panelists also underscored how the industry needs to align on energy-efficient solutions to minimize impact environmental impact and ensure responsible development and deployment of AI.\\u2028\\u2028A full list of AI House Davos sessions that HPE drove with leading experts worldwide can be found\\xa0here.']"
      ]
     },
     "execution_count": 125,
     "metadata": {},
     "output_type": "execute_result"
    }
   ],
   "source": [
    "results"
   ]
  },
  {
   "cell_type": "code",
   "execution_count": 121,
   "id": "455e9d54-71e1-40fc-af47-c5409cf2ec3e",
   "metadata": {},
   "outputs": [],
   "source": [
    "# results\n",
    "from datetime import datetime"
   ]
  },
  {
   "cell_type": "code",
   "execution_count": 143,
   "id": "2249e599-6d85-4e80-bef0-1d4f70f09b16",
   "metadata": {},
   "outputs": [
    {
     "name": "stdout",
     "output_type": "stream",
     "text": [
      "Sorted Dates: ['2024-01-24', '2024-01-23', '2024-01-23', '2024-01-23', '2023-06-06', '2023-06-06', '2023-02-22', '2022-12-07', '2022-10-19', '2022-10-04', '2022-08-30', '2022-06-22', '2022-06-22', '2022-05-18', '2022-03-01']\n",
      "Original Indices: [14, 2, 3, 7, 6, 8, 0, 12, 5, 1, 10, 4, 11, 13, 9]\n",
      "len(results2):  3692\n",
      "results2:  Reimagining your technology strategy for sustainable, responsible, and innovative AI. In a session co-led by Crusoe, leaders with Crusoe, Rescale, and Writer joined HPE to discuss how AI is currently transforming productivity and automating workflows across industries. As technology leaders, the panelists also underscored how the industry needs to align on energy-efficient solutions to minimize impact environmental impact and ensure responsible development and deployment of AI. ",
      " ",
      "A full list of AI House Davos sessions that HPE drove with leading experts worldwide can be found here.\n",
      "HPE veteran of 28+ years brings proven leadership to accelerate Supercomputing and AI business\n",
      "HOUSTON, Texas – January 23, 2024 – Hewlett Packard Enterprise (NYSE: HPE) today announced an expanded leadership role effective February 1, 2024 for Neil MacDonald, who has been appointed to lead the company’s HPC & AI business segment in addition to leading its Compute business. MacDonald will continue to report to president and chief executive officer, Antonio Neri and each business segment will continue to report its financial results independently. In his new role as the executive vice president and general manager of both Compute and HPC & AI, MacDonald will lead the team in accelerating HPE’s AI strategy by scaling cloud and software solutions with strong integration of HPE GreenLake. Additionally, the company announced that Hewlett Packard Labs will now move to reporting to Fidelma Russo, HPE’s Chief Technology Officer. \n",
      "“The HPC and AI business is critical to our ongoing strategy. Neil’s engineering background and expertise in silicon and AI, combined with his decades of proven leadership experience and passion for customer-driven innovation make him uniquely suited to lead this team”\n",
      "“The HPC and AI business is critical to our ongoing strategy. Neil’s engineering background and expertise in silicon and AI, combined with his decades of proven leadership experience and passion for customer-driven innovation make him uniquely suited to lead this team,” said Neri. “Neil’s technical acumen, vision and passion for advancing HPE’s unique IP in supercomputing, AI infrastructure technologies, and our AI software platform will strengthen the role we can play in our customers’ most critical transformations.”  ",
      " ",
      "Notably, under MacDonald’s leadership, the Compute business recently expanded its strategic collaboration with NVIDIA to enhance HPE’s Compute portfolio and build a turnkey enterprise computing solution for GenAI to target a growing market. ",
      " ",
      "“AI and supercomputing are ground-breaking technologies that will soon transform every business and fuel next generation innovations that will fundamentally change the world,” said MacDonald. “I’m deeply committed to continue fostering the mission of our HPC & AI business and lead this incredibly talented team that’s dedicated to solving our customer’s most complex problems.” ",
      " ",
      "Prior to joining our predecessor, Hewlett-Packard Company, MacDonald was Commercial Manager at Edinburgh Parallel Computing Centre where he helped bring the transformational benefits of massively parallel supercomputing to industrial and commercial customers. He holds a bachelor's degree in Artificial Intelligence with Computer Science and a Ph.D. in Computer Science from the University of Edinburgh, as well as an MBA from San Jose State University.  \n",
      "About Hewlett Packard Enterprise\n",
      "IN THIS ARTICLE\n",
      "Major rose through HPE leadership ranks in employment law and HR to become member of executive team, reporting to CEO Antonio Neri\n",
      "May to remain with HPE to support the organizational integration of Juniper Networks, which HPE intends to acquire\n"
     ]
    }
   ],
   "source": [
    "date_strings = [i['Date'] for i in results['metadatas'][0]]\n",
    "# Your list of datetime strings\n",
    "# date_strings = ['2017-11-21', '2018-03-19', '2022-01-28', '2023-06-20', '2022-04-27']\n",
    "# Step 1: Parse strings into datetime objects\n",
    "date_objects = [datetime.fromisoformat(date_str) for date_str in date_strings]\n",
    "\n",
    "# Step 2: Extract year, month, and day\n",
    "formatted_dates = [dt.strftime('%Y-%m-%d') for dt in date_objects]\n",
    "\n",
    "# Step 3: Sort datetime objects while keeping track of original indices\n",
    "sorted_dates_with_indices = sorted(enumerate(zip(date_objects, formatted_dates)),\n",
    "                                   key=lambda x: x[1][0], reverse=True)\n",
    "\n",
    "# Extract sorted dates and original indices\n",
    "sorted_dates = [date_str for _, (dt, date_str) in sorted_dates_with_indices]\n",
    "original_indices = [index for index, _ in sorted_dates_with_indices]\n",
    "\n",
    "# Print the result\n",
    "print(\"Sorted Dates:\", sorted_dates)\n",
    "print(\"Original Indices:\", original_indices)\n",
    "results_x = [results[\"documents\"][0][original_indices[0]],results[\"documents\"][0][original_indices[1]],results[\"documents\"][0][original_indices[2]]]# get the first three document\n",
    "# await show_sources(results)\n",
    "# print(\"results: \",results)`\n",
    "'''\n",
    "2/6/24 (Andrew): Add limit to ensure that any press release does not exceed >14k. \n",
    "This assumes TitanML API deployed on A100\n",
    "This will decrease when API is deployed no T4.\n",
    "'''\n",
    "results2 = \"\\n\".join(results_x)\n",
    "results2 = results2[:4500]\n",
    "print(\"len(results2): \",len(results2))\n",
    "print(\"results2: \",results2)"
   ]
  },
  {
   "cell_type": "code",
   "execution_count": 142,
   "id": "bf093136-51ed-40e5-af0a-5bd5ee0a5f53",
   "metadata": {},
   "outputs": [],
   "source": [
    "# results[\"documents\"][0][[0,1]]"
   ]
  },
  {
   "cell_type": "code",
   "execution_count": null,
   "id": "863faf62-0828-4c1d-bd90-df8864b4476f",
   "metadata": {},
   "outputs": [],
   "source": []
  }
 ],
 "metadata": {
  "kernelspec": {
   "display_name": "Python 3 (ipykernel)",
   "language": "python",
   "name": "python3"
  },
  "language_info": {
   "codemirror_mode": {
    "name": "ipython",
    "version": 3
   },
   "file_extension": ".py",
   "mimetype": "text/x-python",
   "name": "python",
   "nbconvert_exporter": "python",
   "pygments_lexer": "ipython3",
   "version": "3.8.18"
  }
 },
 "nbformat": 4,
 "nbformat_minor": 5
}
