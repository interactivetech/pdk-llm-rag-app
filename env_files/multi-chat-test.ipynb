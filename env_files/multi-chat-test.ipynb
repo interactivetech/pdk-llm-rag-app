{
 "cells": [
  {
   "cell_type": "code",
   "execution_count": null,
   "id": "f3e549d4-5682-4487-979c-561df763aa2c",
   "metadata": {},
   "outputs": [],
   "source": [
    "# simple test"
   ]
  },
  {
   "cell_type": "code",
   "execution_count": 1,
   "id": "e169caff-bc92-42ab-b5a6-3f98f4a8d770",
   "metadata": {},
   "outputs": [],
   "source": [
    "results = {'ids': [['id195', 'id419']],\n",
    " 'distances': [[0.2937813699245453, 0.3080323083482148]],\n",
    " 'metadatas': [[{'Content': 'HOUSTON, Texas – October 4, 2022 – Hewlett Packard Enterprise (NYSE: HPE) will host its Securities Analyst Meeting on October 19, 2022. Join the live webcast to hear Antonio Neri, president and CEO, and Tarek Robbiati, executive vice president and CFO, discuss HPE’s vision, strategy, and financial outlook.\\xa0\\n\\nThe webcast will begin Wednesday, October 19 at 2:30 p.m. CT (3:30 p.m. ET) and will be available at www.hpe.com/investor/SAM2022. Following the executives’ presentations, HPE will hold a live Q&A session.\\n\\r\\nA replay of the webcast will be available at the same website shortly after the call and will remain available for approximately one year. For additional information, see investors.hpe.com.\\xa0\\n\\nAbout Hewlett Packard Enterprise\\nHewlett Packard Enterprise (NYSE: HPE) is the global edge-to-cloud company that helps organizations accelerate outcomes by unlocking value from all of their data, everywhere. Built on decades of reimagining the future and innovating to advance the way people live and work, HPE delivers unique, open and intelligent technology solutions as a service. With offerings spanning Cloud Services, Compute, High Performance Computing & AI, Intelligent Edge, Software, and Storage, HPE provides a consistent experience across all clouds and edges, helping customers develop new business models, engage in new ways, and increase operational performance. For more information, visit: www.hpe.com.\\n\\r\\nEditorial contact\\nLaura Keller\\nLaura.Keller@hpe.com\\n\\r\\nInvestor contact\\nJeff Kvaal\\ninvestor.relations@hpe.com\\n\\nRELATED NEWS\\n',\n",
    "    'Date': '2022-10-04',\n",
    "    'Title': 'Hewlett Packard Enterprise to webcast HPE Securities Analyst Meeting 2022'},\n",
    "   {'Content': 'HPE veteran of 28+ years brings proven leadership to accelerate Supercomputing and AI business\\nHOUSTON, Texas – January 23, 2024\\xa0–\\xa0Hewlett Packard Enterprise\\xa0(NYSE: HPE) today announced an expanded leadership role effective February 1, 2024 for Neil MacDonald, who has been appointed to lead the company’s HPC & AI business segment in addition to leading its Compute business. MacDonald will continue to report to president and chief executive officer, Antonio Neri and each business segment will continue to report its financial results independently. In his new role as the executive vice president and general manager of both Compute and HPC & AI, MacDonald will lead the team in accelerating HPE’s AI strategy by scaling cloud and software solutions with strong integration of HPE GreenLake. Additionally, the company announced that Hewlett Packard Labs will now move to reporting to Fidelma Russo, HPE’s Chief Technology Officer.\\xa0\\n“The HPC and AI business is critical to our ongoing strategy. Neil’s engineering background and expertise in silicon and AI, combined with his decades of proven leadership experience and passion for customer-driven innovation make him uniquely suited to lead this team”\\n“The HPC and AI business is critical to our ongoing strategy. Neil’s engineering background and expertise in silicon and AI, combined with his decades of proven leadership experience and passion for customer-driven innovation make him uniquely suited to lead this team,” said Neri. “Neil’s technical acumen, vision and passion for advancing HPE’s unique IP in supercomputing, AI infrastructure technologies, and our AI software platform will strengthen the role we can play in our customers’ most critical transformations.”\\xa0\\u2028\\u2028Notably, under MacDonald’s leadership, the Compute business recently expanded its strategic collaboration with NVIDIA to enhance HPE’s Compute portfolio and build a turnkey enterprise computing solution for GenAI to target a growing market.\\u2028\\u2028“AI and supercomputing are ground-breaking technologies that will soon transform every business and fuel next generation innovations that will fundamentally change the world,” said MacDonald. “I’m deeply committed to continue fostering the mission of our HPC & AI business and lead this incredibly talented team that’s dedicated to solving our customer’s most complex problems.”\\u2028\\u2028Prior to joining our predecessor, Hewlett-Packard Company, MacDonald was Commercial Manager at Edinburgh Parallel Computing Centre where he helped bring the transformational benefits of massively parallel supercomputing to industrial and commercial customers. He holds a bachelor\\'s degree in Artificial Intelligence with Computer Science and a Ph.D. in Computer Science from the University of Edinburgh, as well as an MBA from San Jose State University.\\xa0\\xa0\\nAbout Hewlett Packard Enterprise\\nHewlett Packard Enterprise (NYSE: HPE) is the global edge-to-cloud company that helps organizations accelerate outcomes by unlocking value from all of their data, everywhere. Built on decades of reimagining the future and innovating to advance the way people live and work, HPE delivers unique, open and intelligent technology solutions as a service.\\xa0 With offerings spanning Cloud Services, Compute, High Performance Computing & AI, Intelligent Edge, Software, and Storage, HPE provides a consistent experience across all clouds and edges, helping customers develop new business models, engage in new ways, and increase operational performance. For more information, visit:\\xa0www.hpe.com.\\u2028\\u2028Forward-looking Statements\\u2028\\u2028This press release contains forward-looking statements within the meaning of the safe harbor provisions of the Private Securities Litigation Reform Act of 1995. Such statements involve risks, uncertainties, and assumptions. If the risks or uncertainties ever materialize or the assumptions prove incorrect, the results of Hewlett Packard Enterprise Company and its consolidated subsidiaries (Hewlett Packard Enterprise) may differ materially from those expressed or implied by such forward-looking statements and assumptions. The words “believe,” “expect,” “anticipate,” “intend,” “will,” \"may,\" and similar expressions are intended to identify such forward-looking statements. All statements other than statements of historical fact are statements that could be deemed forward-looking statements, including but not limited to any projections of executive performance, financial performance, plans, strategies and objectives of management for future operations or performance. Risks, uncertainties and assumptions include those that are described in HPE’s Annual Report on Form 10-K for the fiscal year ended October 31, 2023, Quarterly Reports on Form 10-Q, Current Reports on Form 8-K, and that are otherwise described or updated from time to time in Hewlett Packard Enterprise’s Securities and Exchange Commission reports. Hewlett Packard Enterprise assumes no obligation and does not intend to update these forward-looking statements, except as required by applicable law.\\u2028\\u2028Media Contact:\\u2028John Choi\\u2028John.choi@hpe.com',\n",
    "    'Date': '2024-01-23',\n",
    "    'Title': 'Hewlett Packard Enterprise announces Neil MacDonald as leader of HPC & AI business segment\\n'}]],\n",
    " 'embeddings': None,\n",
    " 'documents': [['HOUSTON, Texas – October 4, 2022 – Hewlett Packard Enterprise (NYSE: HPE) will host its Securities Analyst Meeting on October 19, 2022. Join the live webcast to hear Antonio Neri, president and CEO, and Tarek Robbiati, executive vice president and CFO, discuss HPE’s vision, strategy, and financial outlook.\\xa0\\n\\nThe webcast will begin Wednesday, October 19 at 2:30 p.m. CT (3:30 p.m. ET) and will be available at www.hpe.com/investor/SAM2022. Following the executives’ presentations, HPE will hold a live Q&A session.\\n\\r\\nA replay of the webcast will be available at the same website shortly after the call and will remain available for approximately one year. For additional information, see investors.hpe.com.\\xa0\\n\\nAbout Hewlett Packard Enterprise\\nHewlett Packard Enterprise (NYSE: HPE) is the global edge-to-cloud company that helps organizations accelerate outcomes by unlocking value from all of their data, everywhere. Built on decades of reimagining the future and innovating to advance the way people live and work, HPE delivers unique, open and intelligent technology solutions as a service. With offerings spanning Cloud Services, Compute, High Performance Computing & AI, Intelligent Edge, Software, and Storage, HPE provides a consistent experience across all clouds and edges, helping customers develop new business models, engage in new ways, and increase operational performance. For more information, visit: www.hpe.com.\\n\\r\\nEditorial contact\\nLaura Keller\\nLaura.Keller@hpe.com\\n\\r\\nInvestor contact\\nJeff Kvaal\\ninvestor.relations@hpe.com\\n\\nRELATED NEWS',\n",
    "   \"HPE veteran of 28+ years brings proven leadership to accelerate Supercomputing and AI business\\nHOUSTON, Texas – January 23, 2024\\xa0–\\xa0Hewlett Packard Enterprise\\xa0(NYSE: HPE) today announced an expanded leadership role effective February 1, 2024 for Neil MacDonald, who has been appointed to lead the company’s HPC & AI business segment in addition to leading its Compute business. MacDonald will continue to report to president and chief executive officer, Antonio Neri and each business segment will continue to report its financial results independently. In his new role as the executive vice president and general manager of both Compute and HPC & AI, MacDonald will lead the team in accelerating HPE’s AI strategy by scaling cloud and software solutions with strong integration of HPE GreenLake. Additionally, the company announced that Hewlett Packard Labs will now move to reporting to Fidelma Russo, HPE’s Chief Technology Officer.\\xa0\\n“The HPC and AI business is critical to our ongoing strategy. Neil’s engineering background and expertise in silicon and AI, combined with his decades of proven leadership experience and passion for customer-driven innovation make him uniquely suited to lead this team”\\n“The HPC and AI business is critical to our ongoing strategy. Neil’s engineering background and expertise in silicon and AI, combined with his decades of proven leadership experience and passion for customer-driven innovation make him uniquely suited to lead this team,” said Neri. “Neil’s technical acumen, vision and passion for advancing HPE’s unique IP in supercomputing, AI infrastructure technologies, and our AI software platform will strengthen the role we can play in our customers’ most critical transformations.”\\xa0\\u2028\\u2028Notably, under MacDonald’s leadership, the Compute business recently expanded its strategic collaboration with NVIDIA to enhance HPE’s Compute portfolio and build a turnkey enterprise computing solution for GenAI to target a growing market.\\u2028\\u2028“AI and supercomputing are ground-breaking technologies that will soon transform every business and fuel next generation innovations that will fundamentally change the world,” said MacDonald. “I’m deeply committed to continue fostering the mission of our HPC & AI business and lead this incredibly talented team that’s dedicated to solving our customer’s most complex problems.”\\u2028\\u2028Prior to joining our predecessor, Hewlett-Packard Company, MacDonald was Commercial Manager at Edinburgh Parallel Computing Centre where he helped bring the transformational benefits of massively parallel supercomputing to industrial and commercial customers. He holds a bachelor's degree in Artificial Intelligence with Computer Science and a Ph.D. in Computer Science from the University of Edinburgh, as well as an MBA from San Jose State University.\\xa0\\xa0\\nAbout Hewlett Packard Enterprise\"]],\n",
    " 'uris': None,\n",
    " 'data': None}"
   ]
  },
  {
   "cell_type": "code",
   "execution_count": 4,
   "id": "3306d8a1-b1cf-4190-a349-5190a01c5df0",
   "metadata": {},
   "outputs": [
    {
     "name": "stdout",
     "output_type": "stream",
     "text": [
      "len(results2):  1554\n",
      "=========prompt=============: \n",
      "[INST]`HOUSTON, Texas – October 4, 2022 – Hewlett Packard Enterprise (NYSE: HPE) will host its Securities Analyst Meeting on October 19, 2022. Join the live webcast to hear Antonio Neri, president and CEO, and Tarek Robbiati, executive vice president and CFO, discuss HPE’s vision, strategy, and financial outlook. \n",
      "\n",
      "The webcast will begin Wednesday, October 19 at 2:30 p.m. CT (3:30 p.m. ET) and will be available at www.hpe.com/investor/SAM2022. Following the executives’ presentations, HPE will hold a live Q&A session.\n",
      "\n",
      "A replay of the webcast will be available at the same website shortly after the call and will remain available for approximately one year. For additional information, see investors.hpe.com. \n",
      "\n",
      "About Hewlett Packard Enterprise\n",
      "Hewlett Packard Enterprise (NYSE: HPE) is the global edge-to-cloud company that helps organizations accelerate outcomes by unlocking value from all of their data, everywhere. Built on decades of reimagining the future and innovating to advance the way people live and work, HPE delivers unique, open and intelligent technology solutions as a service. With offerings spanning Cloud Services, Compute, High Performance Computing & AI, Intelligent Edge, Software, and Storage, HPE provides a consistent experience across all clouds and edges, helping customers develop new business models, engage in new ways, and increase operational performance. For more information, visit: www.hpe.com.\n",
      "\n",
      "Editorial contact\n",
      "Laura Keller\n",
      "Laura.Keller@hpe.com\n",
      "\n",
      "Investor contact\n",
      "Jeff Kvaal\n",
      "investor.relations@hpe.com\n",
      "\n",
      "RELATED NEWS`. Using the above information, answer the following question factually: Who is Antonio Neri?. Answer concisely at most in three sentences. Respond in a natural way, like you are having a conversation with a friend.[/INST]\n",
      "=========end_of_prompt=============\n"
     ]
    }
   ],
   "source": [
    "query = \"Who is Antonio Neri?\"\n",
    "results2 = \"\\n\".join([results['documents'][0][0]])\n",
    "results2 = results2[:4500]\n",
    "print(\"len(results2): \",len(results2))\n",
    "# print(\"results2: \",results2)\n",
    "prompt = f\"[INST]`{results2}`. Using the above information, answer the following question factually: {query}. Answer concisely at most in three sentences. Respond in a natural way, like you are having a conversation with a friend.[/INST]\"\n",
    "print(\"=========prompt=============: \")\n",
    "print(prompt)\n",
    "print(\"=========end_of_prompt=============\")"
   ]
  },
  {
   "cell_type": "code",
   "execution_count": null,
   "id": "03af83e3-784b-4ee7-b97e-17092b5cdf7c",
   "metadata": {},
   "outputs": [],
   "source": [
    "ans = 'Antonio Neri is the president and CEO of Hewlett Packard Enterprise (HPE). He has been with HPE since 2015, where he was previously executive vice president and chief operating officer. Prior to that, he held various leadership positions at Dell EMC, including senior vice president of enterprise services and global sales and marketing.'"
   ]
  },
  {
   "cell_type": "code",
   "execution_count": 5,
   "id": "85e0958d-d00e-46fc-b3b9-5a652dab4afa",
   "metadata": {},
   "outputs": [],
   "source": [
    "json = {'ids': [['id345', 'id195']],\n",
    " 'distances': [[0.4520031809806824, 0.4674580693244934]],\n",
    " 'metadatas': [[{'Content': \"Learning more about Bobby's career path, his advice for others, and what he does in his down time\\r\\nLeading the charge to ensure HPE’s digital and physical assets are always protected is his primary job. Being passionate about football and a stickler for designer shoes is part of his alter-ego.\\r\\n\\r\\nWe had a chance to catch up with Bobby and get to know him a little better.  What is the best thing about working in IT security?\\r\\n\\r\\nInformation security, or cybersecurity, is a really cool field. It’s an industry that's been around for more than 30 years, and it's still at the beginning. It is fast-paced and continually evolving, so there is always more that we need to understand.  This is also why companies continue to invest heavily in IT security.\\r\\n\\r\\nWhat advice would you have for someone who wants to get into IT security?\\r\\n\\r\\nI would say understand how truly broad a topic it is and don't be intimidated by the technical aspects of it.  When you think of cybersecurity, you shouldn't immediately think tech. There are different functions and so many different roles that exist in cybersecurity, and not all of them are deeply technical.\\r\\n\\r\\nWhat excites you about working in this field, specifically at HPE?\\r\\n\\r\\nI believe that we are truly transforming the way people consume and view technology. Being at HPE, we are helping an entire industry transform. Very rarely do you get an opportunity to be part of something this big, and I'm thankful to be here.\\r\\n\\r\\nWhat drives you as a chief security officer?\\r\\n\\r\\nThe opportunity to protect our data, to protect our assets, and essentially, to protect our business, is what drives me. People tend to think that security is synonymous with defense. I love that theory because if you are a sports fan, you already know that defense wins the championships.\\r\\n\\r\\nYou’re a self-proclaimed designer shoe aficionado. Tell us more.\\r\\n\\r\\nI love fashion. I think it stems from my parents.  They were into fashion and made sure we always looked our best at church, the first day of school, and other big events. So, it stuck with me, especially shoes.  I think the most significant part of anyone's fashion is their shoes, and I can tell a lot about an individual based on their shoe game.\\r\\n\\r\\nI knew I was supposed to be at HPE the first time I met Antonio Neri because his shoe game is flawless.\",\n",
    "    'Date': '2023-02-22',\n",
    "    'Title': 'Get to know Bobby Ford, HPE’s Chief Security Officer'},\n",
    "   {'Content': 'HOUSTON, Texas – October 4, 2022 – Hewlett Packard Enterprise (NYSE: HPE) will host its Securities Analyst Meeting on October 19, 2022. Join the live webcast to hear Antonio Neri, president and CEO, and Tarek Robbiati, executive vice president and CFO, discuss HPE’s vision, strategy, and financial outlook.\\xa0\\n\\nThe webcast will begin Wednesday, October 19 at 2:30 p.m. CT (3:30 p.m. ET) and will be available at www.hpe.com/investor/SAM2022. Following the executives’ presentations, HPE will hold a live Q&A session.\\n\\r\\nA replay of the webcast will be available at the same website shortly after the call and will remain available for approximately one year. For additional information, see investors.hpe.com.\\xa0\\n\\nAbout Hewlett Packard Enterprise\\nHewlett Packard Enterprise (NYSE: HPE) is the global edge-to-cloud company that helps organizations accelerate outcomes by unlocking value from all of their data, everywhere. Built on decades of reimagining the future and innovating to advance the way people live and work, HPE delivers unique, open and intelligent technology solutions as a service. With offerings spanning Cloud Services, Compute, High Performance Computing & AI, Intelligent Edge, Software, and Storage, HPE provides a consistent experience across all clouds and edges, helping customers develop new business models, engage in new ways, and increase operational performance. For more information, visit: www.hpe.com.\\n\\r\\nEditorial contact\\nLaura Keller\\nLaura.Keller@hpe.com\\n\\r\\nInvestor contact\\nJeff Kvaal\\ninvestor.relations@hpe.com\\n\\nRELATED NEWS\\n',\n",
    "    'Date': '2022-10-04',\n",
    "    'Title': 'Hewlett Packard Enterprise to webcast HPE Securities Analyst Meeting 2022'}]],\n",
    " 'embeddings': None,\n",
    " 'documents': [[\"Learning more about Bobby's career path, his advice for others, and what he does in his down time\\r\\nLeading the charge to ensure HPE’s digital and physical assets are always protected is his primary job. Being passionate about football and a stickler for designer shoes is part of his alter-ego.\\r\\n\\r\\nWe had a chance to catch up with Bobby and get to know him a little better.  What is the best thing about working in IT security?\\r\\n\\r\\nInformation security, or cybersecurity, is a really cool field. It’s an industry that's been around for more than 30 years, and it's still at the beginning. It is fast-paced and continually evolving, so there is always more that we need to understand.  This is also why companies continue to invest heavily in IT security.\\r\\n\\r\\nWhat advice would you have for someone who wants to get into IT security?\\r\\n\\r\\nI would say understand how truly broad a topic it is and don't be intimidated by the technical aspects of it.  When you think of cybersecurity, you shouldn't immediately think tech. There are different functions and so many different roles that exist in cybersecurity, and not all of them are deeply technical.\\r\\n\\r\\nWhat excites you about working in this field, specifically at HPE?\\r\\n\\r\\nI believe that we are truly transforming the way people consume and view technology. Being at HPE, we are helping an entire industry transform. Very rarely do you get an opportunity to be part of something this big, and I'm thankful to be here.\\r\\n\\r\\nWhat drives you as a chief security officer?\\r\\n\\r\\nThe opportunity to protect our data, to protect our assets, and essentially, to protect our business, is what drives me. People tend to think that security is synonymous with defense. I love that theory because if you are a sports fan, you already know that defense wins the championships.\\r\\n\\r\\nYou’re a self-proclaimed designer shoe aficionado. Tell us more.\\r\\n\\r\\nI love fashion. I think it stems from my parents.  They were into fashion and made sure we always looked our best at church, the first day of school, and other big events. So, it stuck with me, especially shoes.  I think the most significant part of anyone's fashion is their shoes, and I can tell a lot about an individual based on their shoe game.\\r\\n\\r\\nI knew I was supposed to be at HPE the first time I met Antonio Neri because his shoe game is flawless.\",\n",
    "   'HOUSTON, Texas – October 4, 2022 – Hewlett Packard Enterprise (NYSE: HPE) will host its Securities Analyst Meeting on October 19, 2022. Join the live webcast to hear Antonio Neri, president and CEO, and Tarek Robbiati, executive vice president and CFO, discuss HPE’s vision, strategy, and financial outlook.\\xa0\\n\\nThe webcast will begin Wednesday, October 19 at 2:30 p.m. CT (3:30 p.m. ET) and will be available at www.hpe.com/investor/SAM2022. Following the executives’ presentations, HPE will hold a live Q&A session.\\n\\r\\nA replay of the webcast will be available at the same website shortly after the call and will remain available for approximately one year. For additional information, see investors.hpe.com.\\xa0\\n\\nAbout Hewlett Packard Enterprise\\nHewlett Packard Enterprise (NYSE: HPE) is the global edge-to-cloud company that helps organizations accelerate outcomes by unlocking value from all of their data, everywhere. Built on decades of reimagining the future and innovating to advance the way people live and work, HPE delivers unique, open and intelligent technology solutions as a service. With offerings spanning Cloud Services, Compute, High Performance Computing & AI, Intelligent Edge, Software, and Storage, HPE provides a consistent experience across all clouds and edges, helping customers develop new business models, engage in new ways, and increase operational performance. For more information, visit: www.hpe.com.\\n\\r\\nEditorial contact\\nLaura Keller\\nLaura.Keller@hpe.com\\n\\r\\nInvestor contact\\nJeff Kvaal\\ninvestor.relations@hpe.com\\n\\nRELATED NEWS']],\n",
    " 'uris': None,\n",
    " 'data': None}"
   ]
  },
  {
   "cell_type": "code",
   "execution_count": 6,
   "id": "19b3a89a-4328-4d02-a959-8e32b547b84a",
   "metadata": {},
   "outputs": [
    {
     "name": "stdout",
     "output_type": "stream",
     "text": [
      "len(results2):  1554\n",
      "=========prompt=============: \n",
      "[INST]`HOUSTON, Texas – October 4, 2022 – Hewlett Packard Enterprise (NYSE: HPE) will host its Securities Analyst Meeting on October 19, 2022. Join the live webcast to hear Antonio Neri, president and CEO, and Tarek Robbiati, executive vice president and CFO, discuss HPE’s vision, strategy, and financial outlook. \n",
      "\n",
      "The webcast will begin Wednesday, October 19 at 2:30 p.m. CT (3:30 p.m. ET) and will be available at www.hpe.com/investor/SAM2022. Following the executives’ presentations, HPE will hold a live Q&A session.\n",
      "\n",
      "A replay of the webcast will be available at the same website shortly after the call and will remain available for approximately one year. For additional information, see investors.hpe.com. \n",
      "\n",
      "About Hewlett Packard Enterprise\n",
      "Hewlett Packard Enterprise (NYSE: HPE) is the global edge-to-cloud company that helps organizations accelerate outcomes by unlocking value from all of their data, everywhere. Built on decades of reimagining the future and innovating to advance the way people live and work, HPE delivers unique, open and intelligent technology solutions as a service. With offerings spanning Cloud Services, Compute, High Performance Computing & AI, Intelligent Edge, Software, and Storage, HPE provides a consistent experience across all clouds and edges, helping customers develop new business models, engage in new ways, and increase operational performance. For more information, visit: www.hpe.com.\n",
      "\n",
      "Editorial contact\n",
      "Laura Keller\n",
      "Laura.Keller@hpe.com\n",
      "\n",
      "Investor contact\n",
      "Jeff Kvaal\n",
      "investor.relations@hpe.com\n",
      "\n",
      "RELATED NEWS`. Using the above information, answer the following question factually: How long has Antonio Neri been at HPE?. Answer concisely at most in three sentences. Respond in a natural way, like you are having a conversation with a friend.[/INST]\n",
      "=========end_of_prompt=============\n"
     ]
    }
   ],
   "source": [
    "query = \"How long has Antonio Neri been at HPE?\"\n",
    "results2 = \"\\n\".join([results['documents'][0][0]])\n",
    "results2 = results2[:4500]\n",
    "print(\"len(results2): \",len(results2))\n",
    "# print(\"results2: \",results2)\n",
    "prompt = f\"[INST]`{results2}`. Using the above information, answer the following question factually: {query}. Answer concisely at most in three sentences. Respond in a natural way, like you are having a conversation with a friend.[/INST]\"\n",
    "print(\"=========prompt=============: \")\n",
    "print(prompt)\n",
    "print(\"=========end_of_prompt=============\")"
   ]
  },
  {
   "cell_type": "code",
   "execution_count": null,
   "id": "162a6482-6918-4106-a9c8-458f847563e9",
   "metadata": {},
   "outputs": [],
   "source": [
    "ans = 'Antonio Neri has been the president and CEO of Hewlett Packard Enterprise (HPE) since 2015. That means he will have been at HPE for seven years when he presents at their Securities Analyst Meeting on October 19, 21022.'"
   ]
  },
  {
   "cell_type": "code",
   "execution_count": null,
   "id": "49ab68e6-797a-4455-8e1e-df3359b2f02c",
   "metadata": {},
   "outputs": [],
   "source": []
  },
  {
   "cell_type": "code",
   "execution_count": null,
   "id": "a064a72b-f4de-4bc5-a97d-ecb702d916b0",
   "metadata": {},
   "outputs": [],
   "source": []
  },
  {
   "cell_type": "code",
   "execution_count": null,
   "id": "7cb0370e-6dce-4e8a-bef4-a1a521581ab2",
   "metadata": {},
   "outputs": [],
   "source": [
    "messages = [\n",
    "    {\"role\": \"user\", \"content\": \"What is your favourite condiment?\"},\n",
    "    {\"role\": \"assistant\", \"content\": \"Well, I'm quite partial to a good squeeze of fresh lemon juice. It adds just the right amount of zesty flavour to whatever I'm cooking up in the kitchen!\"},\n",
    "    {\"role\": \"user\", \"content\": \"Do you have mayonnaise recipes?\"}\n",
    "]"
   ]
  },
  {
   "cell_type": "code",
   "execution_count": null,
   "id": "02a0e03e-3a09-4352-be95-dc8a92ce882e",
   "metadata": {},
   "outputs": [],
   "source": [
    "text = \"<s>[INST] What is your favourite condiment? [/INST]\"\n",
    "\"Well, I'm quite partial to a good squeeze of fresh lemon juice. It adds just the right amount of zesty flavour to whatever I'm cooking up in the kitchen!</s> \"\n",
    "\"[INST] Do you have mayonnaise recipes? [/INST]\""
   ]
  },
  {
   "cell_type": "code",
   "execution_count": null,
   "id": "92941941-ead9-4ddb-b972-6efd76191a45",
   "metadata": {},
   "outputs": [],
   "source": []
  },
  {
   "cell_type": "code",
   "execution_count": 18,
   "id": "fef14630-8232-4c85-8993-40cbc19a9bdf",
   "metadata": {},
   "outputs": [
    {
     "name": "stdout",
     "output_type": "stream",
     "text": [
      "question:  What is a healthy condiment?!\n",
      "[INST]Document:`Healthy options are the following: Condiment, ketchup. Snacks,  broccoli. Dinner, salmon,`. Using the text in Document, answer the following question factually: What is a healthy condiment?!. Answer concisely at most in three sentences. Respond in a natural way, like you are having a conversation with a friend.[/INST]\n",
      "answer:   Based on the given document, a healthy condiment is ketchup. It's important to note that while ketchups can be high in sugar and sodium, there are many low-sugar options available. Additionally, it's always best to use condiments sparingly as they often add unnecessary calories and salt to meals.\n",
      "question:  What is a healthy snack?!\n",
      "[INST] What is a healthy condiment?! [/INST] \" Based on the given document, a healthy condiment is ketchup. It's important to note that while ketchups can be high in sugar and sodium, there are many low-sugar options available. Additionally, it's always best to use condiments sparingly as they often add unnecessary calories and salt to meals.\"[INST]Document:`Healthy options are the following: Condiment, ketchup. Snacks,  broccoli. Dinner, salmon,`. Using the text in Document, answer the following question factually: What is a healthy snack?!. Answer concisely at most in three sentences. Respond in a natural way, like you are having a conversation with a friend.[/INST]\n",
      "answer:   Based on the given document, a healthy snack is broccoli. Broccoli is a nutrient-dense vegetable that is low in calories and high in fiber, making it an excellent choice for a quick and satisfying snack. Additionally, it's important to note that portion control is key when eating any type of food, including snacks.\n",
      "question:  What is a healthy dinner?!\n",
      "[INST] What is a healthy condiment?! [/INST] \" Based on the given document, a healthy condiment is ketchup. It's important to note that while ketchups can be high in sugar and sodium, there are many low-sugar options available. Additionally, it's always best to use condiments sparingly as they often add unnecessary calories and salt to meals.\"[INST] What is a healthy snack?! [/INST] \" Based on the given document, a healthy snack is broccoli. Broccoli is a nutrient-dense vegetable that is low in calories and high in fiber, making it an excellent choice for a quick and satisfying snack. Additionally, it's important to note that portion control is key when eating any type of food, including snacks.\"[INST]Document:`Healthy options are the following: Condiment, ketchup. Snacks,  broccoli. Dinner, salmon,`. Using the text in Document, answer the following question factually: What is a healthy dinner?!. Answer concisely at most in three sentences. Respond in a natural way, like you are having a conversation with a friend.[/INST]\n",
      "answer:   Based on the given document, a healthy dinner is salmon. Salmon is a lean protein source that is high in omega-3 fatty acids and can be prepared in various ways such as grilling or baking. It's important to note that while salmon is generally considered a healthy option, it should be consumed in moderation due to its high levels of mercury. Additionally, it's always best to pair salmon with other nutrient-dense foods like vegetables for a well-rounded meal.\n"
     ]
    }
   ],
   "source": [
    "import requests\n",
    "import json\n",
    "\n",
    "class ConversationQueue:\n",
    "    def __init__(self, max_length=3):\n",
    "        self.queue = []\n",
    "        self.max_length = max_length\n",
    "\n",
    "    def add_conversation(self, question, response=None):\n",
    "        if response:\n",
    "            conversation = f'[INST] {question} [/INST] \"{response}\"'\n",
    "        else:\n",
    "            conversation = f'[INST] {question} [/INST] '\n",
    "        if len(self.queue) == self.max_length:\n",
    "            self.queue.pop(0)\n",
    "        self.queue.append(conversation)\n",
    "\n",
    "    def get_conversations(self):\n",
    "        return ''.join(self.queue)\n",
    "\n",
    "    def generate_prompt(self, doc, query):\n",
    "        base_prompt = self.get_conversations()\n",
    "        prompt = f\"{base_prompt}[INST]Document:`{doc}`. Using the text in Document, answer the following question factually: {query}. Answer concisely at most in three sentences. Respond in a natural way, like you are having a conversation with a friend.[/INST]\"\n",
    "        return prompt\n",
    "\n",
    "def make_api_request(prompt):\n",
    "    url = 'http://10.182.1.48:8080/generate_stream'\n",
    "    headers = {\n",
    "        'Content-Type': 'application/json',\n",
    "        'Accept': '*/*',\n",
    "        'Accept-Language': 'en-US,en;q=0.9',\n",
    "        'Connection': 'keep-alive',\n",
    "        'Origin': 'http://10.182.1.48:8080',\n",
    "        'Referer': 'http://10.182.1.48:8080/demos/playground/',\n",
    "        'User-Agent': 'Mozilla/5.0 (Macintosh; Intel Mac OS X 10_15_7) AppleWebKit/537.36 (KHTML, like Gecko) Chrome/120.0.0.0 Safari/537.36'\n",
    "    }\n",
    "    data = {\n",
    "        'text': prompt,\n",
    "        'generate_max_length': 1000,\n",
    "        'no_repeat_ngram_size': 3,\n",
    "        'sampling_topk': 50,\n",
    "        'sampling_topp': 0.95,\n",
    "        'sampling_temperature': 0.3,\n",
    "        'repetition_penalty': 1.2\n",
    "    }\n",
    "    response = requests.post(url, headers=headers, json=data, verify=False)  # verify=False is generally not recommended\n",
    "    return response\n",
    "\n",
    "# Example usage\n",
    "cq = ConversationQueue()\n",
    "question = \"What is a healthy condiment?!\"\n",
    "print(\"question: \",question)\n",
    "# Adding first conversation\n",
    "prompt = cq.generate_prompt(\"Healthy options are the following: Condiment, ketchup. Snacks,  broccoli. Dinner, salmon,\",\n",
    "                            question)\n",
    "print(prompt)\n",
    "# Simulating an API request (this will not actually run in this environment)\n",
    "response = make_api_request(prompt)\n",
    "answer = response.content.decode('utf-8')\n",
    "print(\"answer: \",answer)\n",
    "cq.add_conversation(question, answer)\n",
    "\n",
    "question = \"What is a healthy snack?!\"\n",
    "print(\"question: \",question)\n",
    "# Adding first conversation\n",
    "prompt = cq.generate_prompt(\"Healthy options are the following: Condiment, ketchup. Snacks,  broccoli. Dinner, salmon,\",\n",
    "                            question)\n",
    "print(prompt)\n",
    "# Simulating an API request (this will not actually run in this environment)\n",
    "response = make_api_request(prompt)\n",
    "answer = response.content.decode('utf-8')\n",
    "print(\"answer: \",answer)\n",
    "cq.add_conversation(question, answer)\n",
    "\n",
    "question = \"What is a healthy dinner?!\"\n",
    "print(\"question: \",question)\n",
    "# Adding first conversation\n",
    "prompt = cq.generate_prompt(\"Healthy options are the following: Condiment, ketchup. Snacks,  broccoli. Dinner, salmon,\",\n",
    "                            question)\n",
    "print(prompt)\n",
    "# Simulating an API request (this will not actually run in this environment)\n",
    "response = make_api_request(prompt)\n",
    "answer = response.content.decode('utf-8')\n",
    "print(\"answer: \",answer)\n",
    "cq.add_conversation(question, answer)\n",
    "# # Adding first conversation\n",
    "# cq.add_conversation(\"What is your favorite condiment?\", \"My favorite condiment is ketchup. It's versatile, delicious, and adds a perfect touch of flavor to many dishes.\")\n",
    "# print(cq.get_conversations())\n",
    "\n",
    "# # Adding second conversation\n",
    "# cq.add_conversation(\"What is your favorite snack?\", \"My favorite snack is a handful of mixed nuts, such as almonds, cashews, and walnuts. They are a great source of protein, healthy fats, and fiber, making them a satisfying and nourishing choice.\")\n",
    "# print(cq.get_conversations())\n",
    "\n",
    "# # Adding third conversation\n",
    "# cq.add_conversation(\"What is your favorite vegetable?\", \"My favorite vegetable is broccoli. It's a cruciferous vegetable that is high in fiber, vitamins C and K, and antioxidants. I love it steamed with a sprinkle of lemon juice or roasted with garlic and olive oil.\")\n",
    "# print(cq.get_conversations())\n",
    "\n",
    "# prompt = cq.generate_prompt(\"Pick healthy options. For condiment, pick ketchup. For snack, pick broccoli. For Dinner, pick salmon,\", \"What is your favorite dinner?!\")\n",
    "# print(prompt)\n",
    "# # Simulating an API request (this will not actually run in this environment)\n",
    "# response = make_api_request(prompt)\n",
    "# print(response.content.decode('utf-8'))\n",
    "\n",
    "# In a real environment, you would then process the response and potentially add the new conversation\n",
    "# cq.add_conversation(\"Hello!\", response['answer'])  # Assuming the API returns a dictionary with the answer"
   ]
  },
  {
   "cell_type": "code",
   "execution_count": null,
   "id": "feb8204c-bf88-4940-888b-28705769f253",
   "metadata": {},
   "outputs": [],
   "source": []
  }
 ],
 "metadata": {
  "kernelspec": {
   "display_name": "Python 3 (ipykernel)",
   "language": "python",
   "name": "python3"
  },
  "language_info": {
   "codemirror_mode": {
    "name": "ipython",
    "version": 3
   },
   "file_extension": ".py",
   "mimetype": "text/x-python",
   "name": "python",
   "nbconvert_exporter": "python",
   "pygments_lexer": "ipython3",
   "version": "3.8.18"
  }
 },
 "nbformat": 4,
 "nbformat_minor": 5
}
